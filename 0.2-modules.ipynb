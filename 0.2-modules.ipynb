{
 "cells": [
  {
   "cell_type": "markdown",
   "metadata": {},
   "source": [
    "# 0.2 - Modules in Jupyter\n",
    "\n",
    "We can do just about anything in jupyter that we can do in a normal python script or interpreter. We can define functions and classes, import modules, and so on.\n",
    "\n",
    "\n",
    "Let's try doing a few things in python with Jupyter.\n",
    "\n",
    "## Importing modules\n",
    "\n",
    "We can import modules (pieces of code that exist in separate files) in our notebook and run them, this includes both build in modules, and modules from packages we have downloaded or written ourselves. Lets try that now by importing a function from pythons math library.\n"
   ]
  },
  {
   "cell_type": "code",
   "execution_count": null,
   "metadata": {},
   "outputs": [],
   "source": [
    "import math"
   ]
  },
  {
   "cell_type": "markdown",
   "metadata": {},
   "source": [
    "Math contains (as you might expect) some mathmatical functions beyond the basic ones implemented as standard operators and functions in python already.\n",
    "\n",
    "We can inspect the docstrings for modules we have imported with the following syntax."
   ]
  },
  {
   "cell_type": "code",
   "execution_count": null,
   "metadata": {},
   "outputs": [],
   "source": [
    "math?"
   ]
  },
  {
   "cell_type": "markdown",
   "metadata": {},
   "source": [
    "This works for functions and within the module too."
   ]
  },
  {
   "cell_type": "code",
   "execution_count": null,
   "metadata": {},
   "outputs": [],
   "source": [
    "math.sin?"
   ]
  },
  {
   "cell_type": "code",
   "execution_count": null,
   "metadata": {},
   "outputs": [],
   "source": [
    "# What's the sin of pi/4 radians?\n",
    "math.sin( math.pi/4 )"
   ]
  },
  {
   "cell_type": "markdown",
   "metadata": {},
   "source": [
    "We can also load code from .py files we have written ourself. As an example, we have file called 'my_functions.py' in this folder that we can import by prefixing it with a `.` to tell python to look for files in the current directory rather than in the python modules directory.\n",
    "\n",
    "Note that the `\"\"\"Triple quoted strings\"\"\"` in this file are where python pulls the documentation from. You can write these too!"
   ]
  },
  {
   "cell_type": "code",
   "execution_count": null,
   "metadata": {},
   "outputs": [],
   "source": [
    "import my_module\n",
    "\n",
    "my_module?"
   ]
  },
  {
   "cell_type": "markdown",
   "metadata": {},
   "source": [
    "Lets use the backwards() function from that module. We can use ? to check how it works."
   ]
  },
  {
   "cell_type": "code",
   "execution_count": null,
   "metadata": {},
   "outputs": [],
   "source": [
    "my_module.backwards?"
   ]
  },
  {
   "cell_type": "code",
   "execution_count": null,
   "metadata": {},
   "outputs": [],
   "source": [
    "mystring = \"I'm bored of hello world strings...\"\n",
    "\n",
    "\n",
    "my_module.backwards(mystring)"
   ]
  },
  {
   "cell_type": "markdown",
   "metadata": {},
   "source": [
    "## A bit about Packages and pip.\n",
    "\n",
    "**Packages** in python are a way of distributing a collection of one or more **modules**. At its simplest a package can just be a folder with a few simple python files in it. In daily use you'll more often see packages distributed with pythons built in package manager *pip*. Pip is installed with python and gives you access to download packages from the [python package index](https://pypi.org/). In enterprise settings it might be a bit complex than this, and you might use pip or another tool to download packages from a different repository, but the end result is the same - pip will download the package and install somewhere in your environment where python knows how to access it (where exactly depends on how you tell pip to install it and how your python environment is configured.\n",
    "\n",
    "You can use pip as a terminal command. Try out opening a terminal and testing some of the following:\n",
    "\n",
    "```\n",
    "# Get a list of all your install packages and their versions.\n",
    "pip list\n",
    "\n",
    "# Install a package - in this case the requests package - a useful tool for making http requests to interact with web pages and APIs.\n",
    "pip install requests\n",
    "\n",
    "# We can update a package by adding an extra argument to our command\n",
    "# Since pip itself is a package, lets make sure we are on the latest version.\n",
    "pip install --upgrade pip\n",
    "```"
   ]
  },
  {
   "cell_type": "code",
   "execution_count": null,
   "metadata": {},
   "outputs": [],
   "source": [
    "!pip list"
   ]
  },
  {
   "cell_type": "code",
   "execution_count": null,
   "metadata": {},
   "outputs": [],
   "source": []
  }
 ],
 "metadata": {
  "kernelspec": {
   "display_name": "Python 3",
   "language": "python",
   "name": "python3"
  },
  "language_info": {
   "codemirror_mode": {
    "name": "ipython",
    "version": 3
   },
   "file_extension": ".py",
   "mimetype": "text/x-python",
   "name": "python",
   "nbconvert_exporter": "python",
   "pygments_lexer": "ipython3",
   "version": "3.7.4"
  }
 },
 "nbformat": 4,
 "nbformat_minor": 4
}
