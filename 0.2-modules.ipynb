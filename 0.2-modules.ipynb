{
 "cells": [
  {
   "cell_type": "markdown",
   "metadata": {},
   "source": [
    "# 0.2 - Modules in Jupyter\n",
    "\n",
    "We can do just about anything in jupyter that we can do in a normal python script or interpreter. We can define functions and classes, import modules, and so on.\n",
    "\n",
    "\n",
    "Let's try doing a few things in python with Jupyter.\n",
    "\n",
    "## Importing modules\n",
    "\n",
    "We can import modules (pieces of code that exist in separate files) in our notebook and run them, this includes both build in modules, and modules from packages we have downloaded or written ourselves. Lets try that now by importing a function from pythons math library.\n"
   ]
  },
  {
   "cell_type": "code",
   "execution_count": 10,
   "metadata": {},
   "outputs": [],
   "source": [
    "import math"
   ]
  },
  {
   "cell_type": "markdown",
   "metadata": {},
   "source": [
    "Math contains (as you might expect) some mathmatical functions beyond the basic ones implemented as standard operators and functions in python already.\n",
    "\n",
    "We can inspect the docstrings for modules we have imported with the following syntax."
   ]
  },
  {
   "cell_type": "code",
   "execution_count": 11,
   "metadata": {},
   "outputs": [
    {
     "data": {
      "text/plain": [
       "\u001b[0;31mType:\u001b[0m        module\n",
       "\u001b[0;31mString form:\u001b[0m <module 'math' from '/Users/ben/anaconda3/lib/python3.7/lib-dynload/math.cpython-37m-darwin.so'>\n",
       "\u001b[0;31mFile:\u001b[0m        ~/anaconda3/lib/python3.7/lib-dynload/math.cpython-37m-darwin.so\n",
       "\u001b[0;31mDocstring:\u001b[0m  \n",
       "This module provides access to the mathematical functions\n",
       "defined by the C standard.\n"
      ]
     },
     "metadata": {},
     "output_type": "display_data"
    }
   ],
   "source": [
    "math?"
   ]
  },
  {
   "cell_type": "markdown",
   "metadata": {},
   "source": [
    "This works for functions and within the module too."
   ]
  },
  {
   "cell_type": "code",
   "execution_count": 13,
   "metadata": {},
   "outputs": [
    {
     "data": {
      "text/plain": [
       "\u001b[0;31mSignature:\u001b[0m \u001b[0mmath\u001b[0m\u001b[0;34m.\u001b[0m\u001b[0msin\u001b[0m\u001b[0;34m(\u001b[0m\u001b[0mx\u001b[0m\u001b[0;34m,\u001b[0m \u001b[0;34m/\u001b[0m\u001b[0;34m)\u001b[0m\u001b[0;34m\u001b[0m\u001b[0;34m\u001b[0m\u001b[0m\n",
       "\u001b[0;31mDocstring:\u001b[0m Return the sine of x (measured in radians).\n",
       "\u001b[0;31mType:\u001b[0m      builtin_function_or_method\n"
      ]
     },
     "metadata": {},
     "output_type": "display_data"
    }
   ],
   "source": [
    "math.sin?"
   ]
  },
  {
   "cell_type": "code",
   "execution_count": 15,
   "metadata": {},
   "outputs": [
    {
     "data": {
      "text/plain": [
       "0.7071067811865475"
      ]
     },
     "execution_count": 15,
     "metadata": {},
     "output_type": "execute_result"
    }
   ],
   "source": [
    "# What's the sin of pi/4 radians?\n",
    "math.sin( math.pi/4 )"
   ]
  },
  {
   "cell_type": "markdown",
   "metadata": {},
   "source": [
    "We can also load code from .py files we have written ourself. As an example, we have file called 'my_functions.py' in this folder that we can import by prefixing it with a `.` to tell python to look for files in the current directory rather than in the python modules directory.\n",
    "\n",
    "Note that the `\"\"\"Triple quoted strings\"\"\"` in this file are where python pulls the documentation from. You can write these too!"
   ]
  },
  {
   "cell_type": "code",
   "execution_count": 18,
   "metadata": {},
   "outputs": [
    {
     "data": {
      "text/plain": [
       "\u001b[0;31mType:\u001b[0m        module\n",
       "\u001b[0;31mString form:\u001b[0m <module 'my_module' from '/Users/ben/Repositories/labtraining/my_module.py'>\n",
       "\u001b[0;31mFile:\u001b[0m        ~/Repositories/labtraining/my_module.py\n",
       "\u001b[0;31mDocstring:\u001b[0m   Some excellent functions that I wrote myself.\n"
      ]
     },
     "metadata": {},
     "output_type": "display_data"
    }
   ],
   "source": [
    "import my_module\n",
    "\n",
    "my_module?"
   ]
  },
  {
   "cell_type": "markdown",
   "metadata": {},
   "source": [
    "Lets use the backwards() function from that module. We can use ? to check how it works."
   ]
  },
  {
   "cell_type": "code",
   "execution_count": 19,
   "metadata": {},
   "outputs": [
    {
     "data": {
      "text/plain": [
       "\u001b[0;31mSignature:\u001b[0m \u001b[0mmy_module\u001b[0m\u001b[0;34m.\u001b[0m\u001b[0mbackwards\u001b[0m\u001b[0;34m(\u001b[0m\u001b[0mstring\u001b[0m\u001b[0;34m)\u001b[0m\u001b[0;34m\u001b[0m\u001b[0;34m\u001b[0m\u001b[0m\n",
       "\u001b[0;31mDocstring:\u001b[0m reverses a string\n",
       "\u001b[0;31mFile:\u001b[0m      ~/Repositories/labtraining/my_module.py\n",
       "\u001b[0;31mType:\u001b[0m      function\n"
      ]
     },
     "metadata": {},
     "output_type": "display_data"
    }
   ],
   "source": [
    "my_module.backwards?"
   ]
  },
  {
   "cell_type": "code",
   "execution_count": 20,
   "metadata": {},
   "outputs": [
    {
     "data": {
      "text/plain": [
       "\"...sgnirts dlrow olleh fo derob m'I\""
      ]
     },
     "execution_count": 20,
     "metadata": {},
     "output_type": "execute_result"
    }
   ],
   "source": [
    "mystring = \"I'm bored of hello world strings...\"\n",
    "\n",
    "\n",
    "my_module.backwards(mystring)"
   ]
  },
  {
   "cell_type": "markdown",
   "metadata": {},
   "source": [
    "## A bit about Packages and pip.\n",
    "\n",
    "**Packages** in python are a way of distributing a collection of one or more **modules**. At its simplest a package can just be a folder with a few simple python files in it. In daily use you'll more often see packages distributed with pythons built in package manager *pip*. Pip is installed with python and gives you access to download packages from the [python package index](https://pypi.org/). In enterprise settings it might be a bit complex than this, and you might use pip or another tool to download packages from a different repository, but the end result is the same - pip will download the package and install somewhere in your environment where python knows how to access it (where exactly depends on how you tell pip to install it and how your python environment is configured.\n",
    "\n",
    "You can use pip as a terminal command. Try out opening a terminal and testing some of the following:\n",
    "\n",
    "```\n",
    "# Get a list of all your install packages and their versions.\n",
    "pip list\n",
    "\n",
    "# Install a package - in this case the requests package - a useful tool for making http requests to interact with web pages and APIs.\n",
    "pip install requests\n",
    "\n",
    "# We can update a package by adding an extra argument to our command\n",
    "# Since pip itself is a package, lets make sure we are on the latest version.\n",
    "pip install --upgrade pip\n",
    "```"
   ]
  },
  {
   "cell_type": "code",
   "execution_count": 21,
   "metadata": {},
   "outputs": [
    {
     "name": "stdout",
     "output_type": "stream",
     "text": [
      "Package                            Version   Location\n",
      "---------------------------------- --------- -------------------------------------------------------------------\n",
      "2to3                               1.0\n",
      "aiohttp                            3.6.2\n",
      "alabaster                          0.7.12\n",
      "anaconda-client                    1.7.2\n",
      "anaconda-navigator                 1.9.7\n",
      "anaconda-project                   0.8.3\n",
      "appdirs                            1.4.3\n",
      "appnope                            0.1.0\n",
      "appscript                          1.0.1\n",
      "asn1crypto                         1.0.1\n",
      "astroid                            2.3.1\n",
      "astropy                            3.2.2\n",
      "async-timeout                      3.0.1\n",
      "atomicwrites                       1.3.0\n",
      "attrs                              18.2.0\n",
      "Authlib                            0.14.1\n",
      "autopep8                           1.5\n",
      "avro                               1.9.2\n",
      "aws-wsgi                           0.2.6\n",
      "awscli                             1.18.4\n",
      "awsgi                              0.0.5\n",
      "Babel                              2.7.0\n",
      "backcall                           0.1.0\n",
      "backports.functools-lru-cache      1.5\n",
      "backports.os                       0.1.1\n",
      "backports.shutil-get-terminal-size 1.0.0\n",
      "backports.tempfile                 1.0\n",
      "backports.weakref                  1.0.post1\n",
      "beautifulsoup4                     4.8.0\n",
      "behave                             1.2.6\n",
      "bitarray                           1.0.1\n",
      "bkcharts                           0.2\n",
      "black                              19.10b0\n",
      "bleach                             3.1.0\n",
      "bokeh                              1.3.4\n",
      "boto                               2.49.0\n",
      "boto3                              1.12.37\n",
      "botocore                           1.15.37\n",
      "Bottleneck                         1.2.1\n",
      "cachetools                         4.0.0\n",
      "certifi                            2019.9.11\n",
      "cffi                               1.12.3\n",
      "cfgv                               3.1.0\n",
      "chardet                            3.0.4\n",
      "chromedriver                       2.24.1\n",
      "Click                              7.0\n",
      "cloudpickle                        1.2.2\n",
      "clyent                             1.2.2\n",
      "colorama                           0.4.1\n",
      "conda                              4.8.2\n",
      "conda-build                        3.18.9\n",
      "conda-package-handling             1.6.0\n",
      "conda-verify                       3.4.2\n",
      "configparser                       4.0.2\n",
      "contextlib2                        0.6.0\n",
      "contino-data                       0.1.1     /Users/ben/Repositories/contino-data\n",
      "cryptography                       2.8\n",
      "cycler                             0.10.0\n",
      "Cython                             0.29.13\n",
      "cytoolz                            0.10.0\n",
      "dask                               2.5.2\n",
      "data                               0.4\n",
      "decorator                          4.4.0\n",
      "defusedxml                         0.6.0\n",
      "distlib                            0.3.0\n",
      "distributed                        2.5.2\n",
      "docutils                           0.15.2\n",
      "emoji                              0.5.4\n",
      "entrypoints                        0.3\n",
      "et-xmlfile                         1.0.1\n",
      "Faker                              4.1.1\n",
      "fastapi                            0.60.1\n",
      "fastavro                           0.23.2\n",
      "fastcache                          1.1.0\n",
      "filelock                           3.0.12\n",
      "Flask                              1.1.1\n",
      "Flask-Assets                       2.0\n",
      "Flask-Cache                        0.13.1\n",
      "Flask-Caching                      1.8.0\n",
      "Flask-Markdown                     0.3\n",
      "Flask-SQLAlchemy                   2.4.3\n",
      "flask-talisman                     0.7.0\n",
      "fsspec                             0.7.2\n",
      "funcsigs                           1.0.2\n",
      "future                             0.17.1\n",
      "fuzzywuzzy                         0.18.0\n",
      "gevent                             1.4.0\n",
      "glob2                              0.7\n",
      "gmpy2                              2.0.8\n",
      "google                             2.0.3\n",
      "google-api-python-client           1.6.4\n",
      "google-auth                        1.11.2\n",
      "greenlet                           0.4.15\n",
      "h5py                               2.9.0\n",
      "HeapDict                           1.0.1\n",
      "html2text                          2020.1.16\n",
      "html5lib                           1.0.1\n",
      "httplib2                           0.17.0\n",
      "httptools                          0.1.1\n",
      "identify                           1.4.15\n",
      "idna                               2.6\n",
      "imageio                            2.6.0\n",
      "imagesize                          1.1.0\n",
      "importlib-metadata                 0.23\n",
      "ipykernel                          5.1.2\n",
      "ipython                            7.8.0\n",
      "ipython-genutils                   0.2.0\n",
      "ipywidgets                         7.5.1\n",
      "isort                              4.3.21\n",
      "itsdangerous                       1.1.0\n",
      "jdcal                              1.4.1\n",
      "jedi                               0.15.1\n",
      "Jinja2                             2.10.3\n",
      "jmespath                           0.9.5\n",
      "joblib                             0.13.2\n",
      "json5                              0.8.5\n",
      "jsonschema                         3.0.2\n",
      "jupyter                            1.0.0\n",
      "jupyter-client                     5.3.3\n",
      "jupyter-console                    6.0.0\n",
      "jupyter-core                       4.5.0\n",
      "jupyterlab                         1.1.4\n",
      "jupyterlab-server                  1.0.6\n",
      "keyring                            18.0.0\n",
      "kiwisolver                         1.1.0\n",
      "latex                              0.7.0\n",
      "lazy-object-proxy                  1.4.2\n",
      "libarchive-c                       2.8\n",
      "lief                               0.9.0\n",
      "llvmlite                           0.29.0\n",
      "locket                             0.2.0\n",
      "lxml                               4.4.1\n",
      "Markdown                           3.2.1\n",
      "MarkupSafe                         1.1.1\n",
      "matplotlib                         3.2.1\n",
      "mccabe                             0.6.1\n",
      "mistune                            0.8.4\n",
      "mkl-fft                            1.0.14\n",
      "mkl-random                         1.1.0\n",
      "mkl-service                        2.3.0\n",
      "mock                               3.0.5\n",
      "more-itertools                     7.2.0\n",
      "mpmath                             1.1.0\n",
      "msgpack                            0.6.1\n",
      "multidict                          4.7.5\n",
      "multipledispatch                   0.6.0\n",
      "navigator-updater                  0.2.1\n",
      "nbconvert                          5.6.0\n",
      "nbformat                           4.4.0\n",
      "networkx                           2.3\n",
      "nltk                               3.4.5\n",
      "nodeenv                            1.3.5\n",
      "nose                               1.3.7\n",
      "notebook                           6.0.1\n",
      "numba                              0.45.1\n",
      "numexpr                            2.7.0\n",
      "numpy                              1.18.1\n",
      "numpydoc                           0.9.1\n",
      "oauth2client                       4.1.3\n",
      "olefile                            0.46\n",
      "openpyxl                           3.0.0\n",
      "packaging                          19.2\n",
      "pandas                             1.0.5\n",
      "pandavro                           1.5.1\n",
      "pandocfilters                      1.4.2\n",
      "parse                              1.15.0\n",
      "parse-type                         0.5.2\n",
      "parso                              0.5.1\n",
      "partd                              1.0.0\n",
      "path.py                            12.0.1\n",
      "pathlib2                           2.3.5\n",
      "pathspec                           0.7.0\n",
      "patsy                              0.5.1\n",
      "pdflatex                           0.1.3\n",
      "pep8                               1.7.1\n",
      "pexpect                            4.7.0\n",
      "pickleshare                        0.7.5\n",
      "Pillow                             6.2.0\n",
      "pip                                20.2.2\n",
      "pipenv                             2020.6.2\n",
      "pkginfo                            1.5.0.1\n",
      "plotly                             4.5.1\n",
      "pluggy                             0.13.0\n",
      "ply                                3.11\n",
      "pre-commit                         2.4.0\n",
      "prometheus-client                  0.7.1\n",
      "prompt-toolkit                     2.0.10\n",
      "psutil                             5.6.3\n",
      "psycopg2-binary                    2.7.7\n",
      "ptyprocess                         0.6.0\n",
      "py                                 1.8.0\n",
      "pyarrow                            0.16.0\n",
      "pyasn1                             0.4.8\n",
      "pyasn1-modules                     0.2.8\n",
      "pycodestyle                        2.5.0\n",
      "pycosat                            0.6.3\n",
      "pycparser                          2.19\n",
      "pycrypto                           2.6.1\n",
      "pycurl                             7.43.0.3\n",
      "pydantic                           1.6.1\n",
      "pyflakes                           2.1.1\n",
      "Pygments                           2.4.2\n",
      "PyJWT                              1.7.1\n",
      "pylint                             2.4.2\n",
      "pyodbc                             4.0.27\n",
      "pyOpenSSL                          19.0.0\n",
      "pyparsing                          2.4.2\n",
      "pyrsistent                         0.15.4\n",
      "PySocks                            1.7.1\n",
      "pytest                             5.2.1\n",
      "pytest-arraydiff                   0.3\n",
      "pytest-astropy                     0.5.0\n",
      "pytest-doctestplus                 0.4.0\n",
      "pytest-openfiles                   0.4.0\n",
      "pytest-remotedata                  0.3.2\n",
      "python-dateutil                    2.8.0\n",
      "python-dotenv                      0.11.0\n",
      "python-Levenshtein                 0.12.0\n",
      "pytz                               2019.3\n",
      "PyWavelets                         1.0.3\n",
      "PyYAML                             5.1.2\n",
      "pyzmq                              18.1.0\n",
      "QtAwesome                          0.6.0\n",
      "qtconsole                          4.5.5\n",
      "QtPy                               1.9.0\n",
      "regex                              2020.2.20\n",
      "requests                           2.18.4\n",
      "requests-cache                     0.5.2\n",
      "requests-mock                      1.7.0\n",
      "retrying                           1.3.3\n",
      "rope                               0.14.0\n",
      "rsa                                3.4.2\n",
      "ruamel-yaml                        0.15.46\n",
      "s3fs                               0.4.2\n",
      "s3transfer                         0.3.3\n",
      "scikit-image                       0.15.0\n",
      "scikit-learn                       0.21.3\n",
      "scipy                              1.3.1\n",
      "seaborn                            0.9.0\n",
      "selenium                           3.141.0\n",
      "Send2Trash                         1.5.0\n",
      "setuptools                         41.4.0\n",
      "shutilwhich                        1.1.0\n",
      "simple-salesforce                  0.74.2\n",
      "simplegeneric                      0.8.1\n",
      "singledispatch                     3.4.0.3\n",
      "six                                1.12.0\n",
      "slackclient                        2.5.0     /Users/ben/Repositories/company-day-2020-slack-data/src/slackclient\n",
      "snowballstemmer                    2.0.0\n",
      "sortedcollections                  1.1.2\n",
      "sortedcontainers                   2.1.0\n",
      "soupsieve                          1.9.3\n",
      "spark-parser                       1.8.9\n",
      "Sphinx                             2.2.0\n",
      "sphinxcontrib-applehelp            1.0.1\n",
      "sphinxcontrib-devhelp              1.0.1\n",
      "sphinxcontrib-htmlhelp             1.0.2\n",
      "sphinxcontrib-jsmath               1.0.1\n",
      "sphinxcontrib-qthelp               1.0.2\n",
      "sphinxcontrib-serializinghtml      1.1.3\n",
      "sphinxcontrib-websupport           1.1.2\n",
      "spyder                             3.3.6\n",
      "spyder-kernels                     0.5.2\n",
      "SQLAlchemy                         1.3.17\n",
      "starlette                          0.13.6\n",
      "statsmodels                        0.10.1\n",
      "sympy                              1.4\n",
      "tables                             3.5.2\n",
      "tabulate                           0.8.6\n",
      "tblib                              1.4.0\n",
      "tempdir                            0.7.1\n",
      "terminado                          0.8.2\n",
      "testpath                           0.4.2\n",
      "tex                                1.8\n",
      "text-unidecode                     1.3\n",
      "toml                               0.10.0\n",
      "toolz                              0.10.0\n",
      "tornado                            6.0.3\n",
      "tqdm                               4.36.1\n",
      "traitlets                          4.3.3\n",
      "typed-ast                          1.4.1\n",
      "tzlocal                            2.0.0\n",
      "uncompyle6                         3.6.4\n",
      "unicodecsv                         0.14.1\n",
      "Unidecode                          1.1.1\n",
      "uritemplate                        3.0.1\n",
      "urllib3                            1.22\n",
      "uvloop                             0.14.0\n",
      "vaderSentiment                     3.3.1\n",
      "virtualenv                         20.0.20\n",
      "virtualenv-clone                   0.5.4\n",
      "wcwidth                            0.1.7\n",
      "webassets                          2.0\n",
      "webencodings                       0.5.1\n",
      "websocket-client                   0.57.0\n",
      "websockets                         8.1\n",
      "Werkzeug                           0.16.0\n",
      "wheel                              0.33.6\n",
      "widgetsnbextension                 3.5.1\n",
      "wordcloud                          1.7.0\n",
      "wrapt                              1.11.2\n",
      "wurlitzer                          1.0.3\n",
      "xdis                               4.2.2\n",
      "xlrd                               1.2.0\n",
      "XlsxWriter                         1.2.9\n",
      "xlwings                            0.15.10\n",
      "xlwt                               1.3.0\n",
      "yarl                               1.4.2\n",
      "zict                               1.0.0\n",
      "zipp                               0.6.0\n"
     ]
    }
   ],
   "source": [
    "!pip list"
   ]
  },
  {
   "cell_type": "code",
   "execution_count": null,
   "metadata": {},
   "outputs": [],
   "source": []
  }
 ],
 "metadata": {
  "kernelspec": {
   "display_name": "Python 3",
   "language": "python",
   "name": "python3"
  },
  "language_info": {
   "codemirror_mode": {
    "name": "ipython",
    "version": 3
   },
   "file_extension": ".py",
   "mimetype": "text/x-python",
   "name": "python",
   "nbconvert_exporter": "python",
   "pygments_lexer": "ipython3",
   "version": "3.7.4"
  }
 },
 "nbformat": 4,
 "nbformat_minor": 4
}
