{
 "cells": [
  {
   "cell_type": "markdown",
   "metadata": {},
   "source": [
    "## Bonus - Jupyter Magic\n",
    "\n",
    "This isnt core material, but you might be intesrested in it.\n",
    "\n",
    "In addition to running python code you can do some other cool stuff in Jupyter cells with special syntax Jupyter refers to as \"magics\"."
   ]
  },
  {
   "cell_type": "code",
   "execution_count": 13,
   "metadata": {},
   "outputs": [
    {
     "name": "stdout",
     "output_type": "stream",
     "text": [
      "0.1-intro-to-jupyter.ipynb    2.4-data-transformation.ipynb\n",
      "0.2-modules.ipynb             2.5-saving-data.ipynb\n",
      "0.3-markdown                  3.0-data-viz.ipynb\n",
      "0.4-jupyter-magics.ipynb      3.1-time-series-data.ipynb\n",
      "1.1-numpy.ipynb               README.md\n",
      "1.2-pandas-series.ipynb       \u001b[1m\u001b[36m__pycache__\u001b[m\u001b[m\n",
      "1.3-pandas-dataframe.ipynb    \u001b[1m\u001b[36mdata\u001b[m\u001b[m\n",
      "2.1-loading-data.ipynb        \u001b[1m\u001b[36mexercises-completed\u001b[m\u001b[m\n",
      "2.2-data-cleaning.ipynb       \u001b[1m\u001b[36mextras\u001b[m\u001b[m\n",
      "2.3-data-exploration.ipynb    my_module.py\n"
     ]
    }
   ],
   "source": [
    "## Run a one line terminal command with the ! decorator.\n",
    "!ls"
   ]
  },
  {
   "cell_type": "code",
   "execution_count": 14,
   "metadata": {},
   "outputs": [
    {
     "name": "stdout",
     "output_type": "stream",
     "text": [
      "pandas==1.0.5\n",
      "numpy==1.18.1\n",
      "numpydoc==0.9.1\n",
      "/Users/ben/Repositories/labtraining\n"
     ]
    }
   ],
   "source": [
    "%%bash\n",
    "# Or a whole bash script with the %% cell magic.\n",
    "pip freeze | grep pandas\n",
    "pip freeze | grep numpy\n",
    "\n",
    "pwd"
   ]
  },
  {
   "cell_type": "code",
   "execution_count": 8,
   "metadata": {},
   "outputs": [
    {
     "data": {
      "text/plain": [
       "\u001b[0;31mSignature:\u001b[0m \u001b[0mstr\u001b[0m\u001b[0;34m.\u001b[0m\u001b[0mreplace\u001b[0m\u001b[0;34m(\u001b[0m\u001b[0mself\u001b[0m\u001b[0;34m,\u001b[0m \u001b[0mold\u001b[0m\u001b[0;34m,\u001b[0m \u001b[0mnew\u001b[0m\u001b[0;34m,\u001b[0m \u001b[0mcount\u001b[0m\u001b[0;34m=\u001b[0m\u001b[0;34m-\u001b[0m\u001b[0;36m1\u001b[0m\u001b[0;34m,\u001b[0m \u001b[0;34m/\u001b[0m\u001b[0;34m)\u001b[0m\u001b[0;34m\u001b[0m\u001b[0;34m\u001b[0m\u001b[0m\n",
       "\u001b[0;31mDocstring:\u001b[0m\n",
       "Return a copy with all occurrences of substring old replaced by new.\n",
       "\n",
       "  count\n",
       "    Maximum number of occurrences to replace.\n",
       "    -1 (the default value) means replace all occurrences.\n",
       "\n",
       "If the optional argument count is given, only the first count occurrences are\n",
       "replaced.\n",
       "\u001b[0;31mType:\u001b[0m      method_descriptor\n"
      ]
     },
     "metadata": {},
     "output_type": "display_data"
    }
   ],
   "source": [
    "# You can fetch docstrings with the ? magic\n",
    "?str.replace"
   ]
  },
  {
   "cell_type": "markdown",
   "metadata": {},
   "source": [
    "This works on functions you define yourself too"
   ]
  },
  {
   "cell_type": "code",
   "execution_count": 9,
   "metadata": {},
   "outputs": [
    {
     "data": {
      "text/plain": [
       "\u001b[0;31mSignature:\u001b[0m \u001b[0mdo_something_cool\u001b[0m\u001b[0;34m(\u001b[0m\u001b[0;34m)\u001b[0m\u001b[0;34m\u001b[0m\u001b[0;34m\u001b[0m\u001b[0m\n",
       "\u001b[0;31mDocstring:\u001b[0m This does something really cool.\n",
       "\u001b[0;31mFile:\u001b[0m      ~/Repositories/labtraining/<ipython-input-9-4a4defc4b453>\n",
       "\u001b[0;31mType:\u001b[0m      function\n"
      ]
     },
     "metadata": {},
     "output_type": "display_data"
    }
   ],
   "source": [
    "def do_something_cool():\n",
    "    \"\"\"This does something really cool.\"\"\"\n",
    "    return \"Cool huh!?\"\n",
    "\n",
    "?do_something_cool"
   ]
  },
  {
   "cell_type": "code",
   "execution_count": 10,
   "metadata": {},
   "outputs": [
    {
     "name": "stdout",
     "output_type": "stream",
     "text": [
      "Requirement already up-to-date: pip in /Users/ben/anaconda3/lib/python3.7/site-packages (20.2.2)\n",
      "Note: you may need to restart the kernel to use updated packages.\n"
     ]
    }
   ],
   "source": [
    "# installing pip packages can be rather useful this way.\n",
    "%pip install --upgrade pip"
   ]
  },
  {
   "cell_type": "code",
   "execution_count": 11,
   "metadata": {},
   "outputs": [],
   "source": [
    "%%capture commithash\n",
    "# The magic above will capture the cells output into a python variable called commithash\n",
    "# Fetch the commit hash for latest commit to this repo.\n",
    "!git rev-parse HEAD"
   ]
  },
  {
   "cell_type": "code",
   "execution_count": 12,
   "metadata": {},
   "outputs": [
    {
     "name": "stdout",
     "output_type": "stream",
     "text": [
      "f62ffb5772ac86fc9bb20eb4d188d69ec1d92f1d\n"
     ]
    }
   ],
   "source": [
    "#Now we can use this in our notebook!\n",
    "commithash.show()"
   ]
  },
  {
   "cell_type": "code",
   "execution_count": null,
   "metadata": {},
   "outputs": [],
   "source": []
  }
 ],
 "metadata": {
  "kernelspec": {
   "display_name": "Python 3",
   "language": "python",
   "name": "python3"
  },
  "language_info": {
   "codemirror_mode": {
    "name": "ipython",
    "version": 3
   },
   "file_extension": ".py",
   "mimetype": "text/x-python",
   "name": "python",
   "nbconvert_exporter": "python",
   "pygments_lexer": "ipython3",
   "version": "3.7.4"
  }
 },
 "nbformat": 4,
 "nbformat_minor": 4
}
