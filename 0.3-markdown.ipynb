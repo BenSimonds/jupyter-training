{
 "cells": [
  {
   "cell_type": "markdown",
   "metadata": {},
   "source": [
    "# 0.3 Markdown 101\n",
    "\n",
    "What makes markdown different to say, just writing in a text file, or writing in a word processor, or writing a web page in HTML?\n",
    "\n",
    "The key features of markdown are:\n",
    "\n",
    " - You just write text! There are no formatting menus like you would see in a word processor.\n",
    " - You can add formatting with special characters. For example to make something bold surround it with __\\_\\_double underscores\\_\\____\n",
    " - When markdown is *rendered* it gets converted to something that displays nicely, and the special characters get converted to ___formatted text___.\n",
    " - But even when it's not formatted it's still very readable, if not *quite* as pretty. This is different to HTML, which supports all kinds of formatting options, but is more or less unreadable when viewed in its raw form.\n",
    " \n",
    "This makes Markdown easy to use in multiple settings - to store alongside your code for quick reading, and incorporate into your shiny documentation in it's final rendered format without having to copy paste and add extra formatting.\n",
    "\n",
    "Places you'll see markdown used (that you might be familiar with already.\n",
    "\n",
    " - Many chat clients (e.g. Slack, Discord)\n",
    " - Confluence supports writing in markdown\n",
    " - Github supports writing documents like README files in markdown to be rendered as html when you browse your repository on github.\n",
    " - Jupyter Notebooks have markdown cells that automatically rendered when you run them!"
   ]
  },
  {
   "cell_type": "markdown",
   "metadata": {},
   "source": [
    "# Basic Markdown Formatting.\n",
    "\n",
    "(edit this cell by clicking it to see how markdown formatting works)\n",
    "\n",
    "Text with _single underscores_ or *single asterisks** around it is rendered as italic.\n",
    "\n",
    "Text with __double underscores__ or **double asterisks** around it is rendered as bold.\n",
    "\n",
    "Tex with `backticks` around it gets rendered as code.\n",
    "\n",
    "```python\n",
    "# Code blocks can be rendered with triple backticks.\n",
    "print(\"hello world\")\n",
    "\n",
    "# This code wont be run - were just showing it as formatted text.\n",
    "# We even get nice synax higlighting\n",
    "def my_function(string):\n",
    "    try:\n",
    "        do_something()\n",
    "    except:\n",
    "        do_something_different()\n",
    "    \n",
    "    return \"Done!\"\n",
    "```\n",
    "\n",
    "You can add headings with the hash character:\n",
    "\n",
    "# Top level heading. (h1)\n",
    "## Subheading (h2)\n",
    "### More Levels of Subheadings (h3)\n",
    "#### More levels of subheadings (h4)\n",
    "\n",
    "You can render links to content like [this](https://www.markdownguide.org/cheat-sheet/).\n",
    "\n",
    "You can add images like this:\n",
    "\n",
    "![mindblown](https://media.giphy.com/media/xT0xeJpnrWC4XWblEk/giphy.gif)\n",
    "\n",
    "If you prefix lines with a `-` character you can add bullet points.\n",
    "- like this\n",
    "- and this\n",
    "- and this\n",
    "\n",
    "Or you can do numbered lists\n",
    "1. like this\n",
    "2. and this\n",
    "2. and this (not you don't have to put the right number, markdown takes care of that).\n",
    "\n",
    "You can do block quotes like this.\n",
    "\n",
    "> Markdown is great. \n",
    "\n",
    "\n",
    "You can even do tables but it's a bit fiddly.\n",
    "\n",
    "| Example Table                                        | So Cool     |\n",
    "|------------------------------------------------------|-------------|\n",
    "| You can even add *formatting* **within** your table. | Like `this` |\n",
    "\n"
   ]
  },
  {
   "cell_type": "markdown",
   "metadata": {},
   "source": [
    "## Wrap-Up\n",
    "\n",
    "So that's markdown. We havent covered everything here but that's enough to get started.\n",
    "\n",
    "Anyway, bookmark this **[markdown cheat sheet](https://www.markdownguide.org/cheat-sheet/)** for more about markdown."
   ]
  },
  {
   "cell_type": "code",
   "execution_count": null,
   "metadata": {},
   "outputs": [],
   "source": []
  }
 ],
 "metadata": {
  "kernelspec": {
   "display_name": "Python 3",
   "language": "python",
   "name": "python3"
  },
  "language_info": {
   "codemirror_mode": {
    "name": "ipython",
    "version": 3
   },
   "file_extension": ".py",
   "mimetype": "text/x-python",
   "name": "python",
   "nbconvert_exporter": "python",
   "pygments_lexer": "ipython3",
   "version": "3.7.4"
  }
 },
 "nbformat": 4,
 "nbformat_minor": 4
}
