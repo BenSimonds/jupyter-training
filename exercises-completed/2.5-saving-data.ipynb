{
 "cells": [
  {
   "cell_type": "markdown",
   "metadata": {},
   "source": [
    "# 2.5 Saving data with Pandas\n",
    "\n",
    "Let's take some of the data we used in the last session and look at saving data in Pandas. As mentioned in the loading data notebook, most of the interfaces pandas supports reading with `read_something()` it also supports writing with `to_something()`.\n",
    "\n",
    "For example lets try loading our data before and saving out some different formats."
   ]
  },
  {
   "cell_type": "code",
   "execution_count": null,
   "metadata": {},
   "outputs": [],
   "source": [
    "import pandas as pd\n",
    "import numpy as np\n",
    "\n",
    "# load the IMDB dataset\n",
    "df = pd.read_csv(\"data/imdb_clean.csv\", index_col='id')\n",
    "df.head()"
   ]
  },
  {
   "cell_type": "markdown",
   "metadata": {},
   "source": [
    "## Excercises\n",
    "\n",
    "1. Save an export of all the video game titles from 2000 to 2010 in csv format\n",
    "2. Save a pivot table of the average movie rating and number of votes cast by start year and title type in excel format"
   ]
  },
  {
   "cell_type": "markdown",
   "metadata": {},
   "source": [
    "## 1. Save an export of all the video game titles from 2000 to 2010 in csv format"
   ]
  },
  {
   "cell_type": "code",
   "execution_count": null,
   "metadata": {},
   "outputs": [],
   "source": [
    "# Add your solution here:\n",
    "# Hint: call to_csv() on your dataframe once you've filtered it down.\n",
    "\n",
    "video_games_2000s = df.loc[\n",
    "    # Combine multiple conditions with '&'\n",
    "    (df['titleType'] == 'videoGame') &\n",
    "    ((df['startYear']) >= 2000) & \n",
    "    ((df['startYear']) <= 2010)\n",
    "]\n",
    "\n",
    "# Check what we have before we save it\n",
    "display(video_games_2000s.head())\n",
    "\n",
    "video_games_2000s.to_csv('data/outputs/video-games-2000-2010.csv')"
   ]
  },
  {
   "cell_type": "markdown",
   "metadata": {},
   "source": [
    "## 2. Save a pivot table of the average movie rating and number of votes cast by start year and title type in excel format\n",
    "Have start year going down, and title type going across"
   ]
  },
  {
   "cell_type": "code",
   "execution_count": null,
   "metadata": {},
   "outputs": [],
   "source": [
    "# Add your solution here:\n",
    "# Hint 1: you can supply a dictionary of functions to aggfunc to tell it which aggregation to apply to which column in values.\n",
    "# Hint 2: call to_excel() on your dataframe once you've pivoted the data.\n",
    "\n",
    "rating_pivot = df.pivot_table(\n",
    "    index='startYear',\n",
    "    columns='titleType',\n",
    "    values=['averageRating','numVotes'],\n",
    "    aggfunc={'averageRating': 'mean', 'numVotes':'sum'}\n",
    "\n",
    ")\n",
    "\n",
    "\n",
    "# Check what we have before we save it\n",
    "display(rating_pivot.head())\n",
    "\n",
    "rating_pivot.to_excel(\n",
    "    'data/outputs/rating-pivot.xlsx',\n",
    "    sheet_name='Ratings by Year, Title Type'\n",
    ")"
   ]
  },
  {
   "cell_type": "code",
   "execution_count": null,
   "metadata": {},
   "outputs": [],
   "source": []
  },
  {
   "cell_type": "code",
   "execution_count": null,
   "metadata": {},
   "outputs": [],
   "source": []
  }
 ],
 "metadata": {
  "kernelspec": {
   "display_name": "Python 3",
   "language": "python",
   "name": "python3"
  },
  "language_info": {
   "codemirror_mode": {
    "name": "ipython",
    "version": 3
   },
   "file_extension": ".py",
   "mimetype": "text/x-python",
   "name": "python",
   "nbconvert_exporter": "python",
   "pygments_lexer": "ipython3",
   "version": "3.7.4"
  }
 },
 "nbformat": 4,
 "nbformat_minor": 4
}
