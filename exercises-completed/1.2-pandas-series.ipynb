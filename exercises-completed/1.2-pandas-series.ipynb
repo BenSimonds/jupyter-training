{
 "cells": [
  {
   "cell_type": "markdown",
   "metadata": {},
   "source": [
    "# 1.2 🐼 Pandas Core Concepts - `pandas.Series`\n",
    "\n",
    "Numpy is fairly low level. We want to manipulate our data in more descriptive ways. Pandas lets us do just that. It extends the concepts of Numpy above, adding labels to our data in the form of indices.\n"
   ]
  },
  {
   "cell_type": "code",
   "execution_count": null,
   "metadata": {},
   "outputs": [],
   "source": [
    "# It convention to import numpy as 'np'.\n",
    "import numpy as np\n",
    "# It's customary to import pandas as pd\n",
    "import pandas as pd"
   ]
  },
  {
   "cell_type": "code",
   "execution_count": null,
   "metadata": {},
   "outputs": [],
   "source": [
    "# Lets create a series that holds the price of some fruit\n",
    "s = pd.Series(\n",
    "    [0.50, 2.10, 0.50, 0.19, 1.29], index=['grapefruit','watermelon','apple','banana','starfruit'], name='fruits'\n",
    ")\n",
    "\n",
    "display(s)"
   ]
  },
  {
   "cell_type": "markdown",
   "metadata": {},
   "source": [
    "The index of a series is a list of values that label each datapoint in that series. They can be of any hashable datatype - strings and integers are the most common, along with a datetime indices for time series data.\n",
    "\n",
    "A series can optionally have a name that labels what the data represents."
   ]
  },
  {
   "cell_type": "code",
   "execution_count": null,
   "metadata": {},
   "outputs": [],
   "source": [
    "display(s.index)"
   ]
  },
  {
   "cell_type": "code",
   "execution_count": null,
   "metadata": {},
   "outputs": [],
   "source": [
    "display(s.values)"
   ]
  },
  {
   "cell_type": "code",
   "execution_count": null,
   "metadata": {},
   "outputs": [],
   "source": [
    "display(s.name)"
   ]
  },
  {
   "cell_type": "markdown",
   "metadata": {},
   "source": [
    "### Accessing Series Values\n",
    "\n",
    "We can access the values in our series in a variety of ways. \n",
    "\n",
    " - With its label using the standard dictionary like accessor eg. `['foo']`\n",
    " - With its label index using the `.loc` accessor\n",
    " - With its numeric index using the `.iloc` accessor"
   ]
  },
  {
   "cell_type": "code",
   "execution_count": null,
   "metadata": {},
   "outputs": [],
   "source": [
    "s['apple']"
   ]
  },
  {
   "cell_type": "code",
   "execution_count": null,
   "metadata": {},
   "outputs": [],
   "source": [
    "s.loc['watermelon']"
   ]
  },
  {
   "cell_type": "code",
   "execution_count": null,
   "metadata": {},
   "outputs": [],
   "source": [
    "s.iloc[3] # Remember arrays are zero based."
   ]
  },
  {
   "cell_type": "markdown",
   "metadata": {},
   "source": [
    "At first the `.loc` accessor might seem redundant, but it allows us to do some powerful things.\n"
   ]
  },
  {
   "cell_type": "code",
   "execution_count": null,
   "metadata": {},
   "outputs": [],
   "source": [
    "# Slice along the axis (in the order of the axis - not alphabetical order unless you sort the index first)\n",
    "s.loc['watermelon':'banana']"
   ]
  },
  {
   "cell_type": "code",
   "execution_count": null,
   "metadata": {},
   "outputs": [],
   "source": [
    "# Supply a list of True, or False values to return all the True ones.\n",
    "s.loc[[False, True, False, True, True]]"
   ]
  },
  {
   "cell_type": "code",
   "execution_count": null,
   "metadata": {},
   "outputs": [],
   "source": [
    "# You can pass an expression to .loc that evaluates to true or false for each value as well.\n",
    "s.loc[s > 1]"
   ]
  },
  {
   "cell_type": "markdown",
   "metadata": {},
   "source": [
    "# Series Operations\n",
    "We can do the same kinds of operations on a Series as we could on a numpy array.\n"
   ]
  },
  {
   "cell_type": "code",
   "execution_count": null,
   "metadata": {},
   "outputs": [],
   "source": [
    "# Operations where once input is a scalar are 'broadcast' to the whole series.\n",
    "s + 1"
   ]
  },
  {
   "cell_type": "code",
   "execution_count": null,
   "metadata": {},
   "outputs": [],
   "source": [
    "# Pandas series share many of the aggregate functions of a numpy array\n",
    "s.mean()"
   ]
  },
  {
   "cell_type": "markdown",
   "metadata": {},
   "source": [
    "# The `apply` method\n",
    "\n",
    "The `apply` method is one of the more powerful concepts in pandas. It will loop over each value in the series (or DataFrame - see below) and apply a function to it."
   ]
  },
  {
   "cell_type": "code",
   "execution_count": null,
   "metadata": {},
   "outputs": [],
   "source": [
    "# Decide which fruits are to expensive.\n",
    "\n",
    "def is_expensive(price):\n",
    "    if price > 1.0:\n",
    "        return 'expensive'\n",
    "    else:\n",
    "        return 'cheap'\n",
    "    \n",
    "s.apply(is_expensive)"
   ]
  },
  {
   "cell_type": "markdown",
   "metadata": {},
   "source": [
    "A handy shorthand for this if you are familiar with python's [lambda](https://www.w3schools.com/python/python_lambda.asp) syntax (not to be confused with AWS lambda) for anonymous functions is as follows:"
   ]
  },
  {
   "cell_type": "code",
   "execution_count": null,
   "metadata": {},
   "outputs": [],
   "source": [
    "s.apply(lambda x: 'expensive' if x > 1 else 'cheap')"
   ]
  },
  {
   "cell_type": "markdown",
   "metadata": {},
   "source": [
    "#### A note about applies\n",
    "\n",
    "Earlier we noted that numpy has some nice fast methods for numeric aggregations and operations on arrays. This is true for pandas too, for example when we sum or add to a series. But applies are not paralleised - meaning that they will run slower than built in functions like `.sum()` or operators like adding or muliplication.\n",
    "\n",
    "This means you should be careful when using applies on large datasets that they arent slowing down your program. If you need to do an apply on a large set of data, there are ways to make this faster though - look into frameworks like https://dask.org/.\n",
    "\n",
    "A lot of the time though doing an apply is just fine, and they're extremely useful."
   ]
  },
  {
   "cell_type": "markdown",
   "metadata": {},
   "source": [
    "### nan values in Pandas\n",
    "\n",
    "nan values in pandas use the same np.nan value as numpy does. *However*, in pandas sums and means etc. ignore nan values by default."
   ]
  },
  {
   "cell_type": "code",
   "execution_count": null,
   "metadata": {},
   "outputs": [],
   "source": [
    "s2 = pd.Series([1,2,np.nan,7,np.nan])\n",
    "s2"
   ]
  },
  {
   "cell_type": "code",
   "execution_count": null,
   "metadata": {},
   "outputs": [],
   "source": [
    "s2.sum()"
   ]
  },
  {
   "cell_type": "markdown",
   "metadata": {},
   "source": [
    "Pandas also has some useful methods for selecting and filling nans.\n"
   ]
  },
  {
   "cell_type": "code",
   "execution_count": null,
   "metadata": {},
   "outputs": [],
   "source": [
    "display(s2.isna())\n",
    "\n",
    "print(\"\\nSelected with isna()\")\n",
    "display(s2.loc[s2.isna()])"
   ]
  },
  {
   "cell_type": "markdown",
   "metadata": {},
   "source": [
    "The ~ (diacritical mark) is used to negate the values used in a selection like the above."
   ]
  },
  {
   "cell_type": "code",
   "execution_count": null,
   "metadata": {},
   "outputs": [],
   "source": [
    "s2.loc[~s2.isna()]"
   ]
  },
  {
   "cell_type": "markdown",
   "metadata": {},
   "source": [
    "But there's also a handy notna() method."
   ]
  },
  {
   "cell_type": "code",
   "execution_count": null,
   "metadata": {},
   "outputs": [],
   "source": [
    "s2.notna()"
   ]
  },
  {
   "cell_type": "markdown",
   "metadata": {},
   "source": [
    "## Pandas datatypes\n",
    "The most common datatypes you will see in pandas are:\n",
    "\n",
    "| dtype | description |\n",
    "|-------|---------------|\n",
    "| int64 | Integer Array |\n",
    "| float64 | Float Array |\n",
    "| object | Object/String array |\n",
    "| datetime64[ns] | datetime with nanosecond accuracy |\n",
    "| category | categorical data (e.g. strings with only a small number of valid options), <br/> may be ordered (e.g. low, medium, high) or unordered (e.g. apple, orange, banana) |\n",
    "\n"
   ]
  },
  {
   "cell_type": "markdown",
   "metadata": {},
   "source": [
    "## Methods for specific datatypes\n",
    "\n",
    "For series of different datatypes there are often methods that apply to specific data types. Most often these are useful for string and datetime datatypes.\n",
    "\n",
    "For string type series objects we can access numerous string methods with `.str.method_name()`"
   ]
  },
  {
   "cell_type": "code",
   "execution_count": null,
   "metadata": {},
   "outputs": [],
   "source": [
    "s3 = pd.Series(['MaTThEw','Mark','Luke','John','Paul','GeOrge','RinGO'])\n",
    "\n",
    "s3.str.upper()"
   ]
  },
  {
   "cell_type": "code",
   "execution_count": null,
   "metadata": {},
   "outputs": [],
   "source": [
    "s3.str.title()"
   ]
  },
  {
   "cell_type": "code",
   "execution_count": null,
   "metadata": {},
   "outputs": [],
   "source": [
    "s3.str.contains('Ma')"
   ]
  },
  {
   "cell_type": "code",
   "execution_count": null,
   "metadata": {},
   "outputs": [],
   "source": [
    "# Extract just the capital letters. Note this adds another level to the index to allow for multiple matches!\n",
    "s3.str.extractall(r'([A-Z]+)')"
   ]
  },
  {
   "cell_type": "markdown",
   "metadata": {},
   "source": [
    "Datetime series objects have methods you can access with `.dt`"
   ]
  },
  {
   "cell_type": "code",
   "execution_count": null,
   "metadata": {},
   "outputs": [],
   "source": [
    "s4 = pd.to_datetime(pd.Series(['1987-01-01 00:00:00','2016-04-01 05:06:07','2020-08-06 12:10:20']))\n",
    "s4"
   ]
  },
  {
   "cell_type": "code",
   "execution_count": null,
   "metadata": {},
   "outputs": [],
   "source": [
    "s4.dt.date"
   ]
  },
  {
   "cell_type": "code",
   "execution_count": null,
   "metadata": {},
   "outputs": [],
   "source": [
    "s4.dt.day"
   ]
  },
  {
   "cell_type": "code",
   "execution_count": null,
   "metadata": {},
   "outputs": [],
   "source": [
    "s4.dt.year"
   ]
  },
  {
   "cell_type": "code",
   "execution_count": null,
   "metadata": {},
   "outputs": [],
   "source": [
    "s4.dt.is_leap_year"
   ]
  },
  {
   "cell_type": "markdown",
   "metadata": {},
   "source": [
    "## Excercises:\n",
    "\n",
    "Answer the following about the series `wc` below\n",
    " - who won the world cup in 1994? Hint: use the .loc accessor (or just print the series...)\n",
    " - who has won it the most times? Hint: try calling value_counts() on the series.\n",
    "\n",
    "Try to do the following:\n",
    " - change the winner for 1974 to 'Wales'. Hint: you can assign values to the series with .loc too.\n",
    " - filter the series to years where Germany won. Hint: Pass an expression to the .loc accessor"
   ]
  },
  {
   "cell_type": "code",
   "execution_count": null,
   "metadata": {},
   "outputs": [],
   "source": [
    "import string\n",
    "string.ascii_lowercase\n",
    "\n",
    "# Lets learn something about this not-very interesting series.\n",
    "wc = pd.read_csv('data/worldcupwinners.csv', index_col='year', squeeze=True)"
   ]
  },
  {
   "cell_type": "code",
   "execution_count": null,
   "metadata": {},
   "outputs": [],
   "source": [
    "# Who won in 1994\n",
    "wc.loc[1994]"
   ]
  },
  {
   "cell_type": "code",
   "execution_count": null,
   "metadata": {},
   "outputs": [],
   "source": [
    "# Who won the most times.\n",
    "wc.value_counts()"
   ]
  },
  {
   "cell_type": "code",
   "execution_count": null,
   "metadata": {},
   "outputs": [],
   "source": [
    "# Change the 1974 winner to Wales\n",
    "wc.loc[1974] = 'Wales'\n",
    "wc"
   ]
  },
  {
   "cell_type": "code",
   "execution_count": null,
   "metadata": {},
   "outputs": [],
   "source": [
    "# Filter to years where germany won\n",
    "display(wc.loc[wc == 'Germany'])\n",
    "\n",
    "# Extra credit -  what about west germany?\n",
    "display(wc.loc[wc.isin(['Germany', 'West Germany'])])\n",
    "\n",
    "# Or a different way\n",
    "display(wc.loc[wc.str.contains(\"Germany\")])"
   ]
  },
  {
   "cell_type": "code",
   "execution_count": null,
   "metadata": {},
   "outputs": [],
   "source": []
  }
 ],
 "metadata": {
  "kernelspec": {
   "display_name": "Python 3",
   "language": "python",
   "name": "python3"
  },
  "language_info": {
   "codemirror_mode": {
    "name": "ipython",
    "version": 3
   },
   "file_extension": ".py",
   "mimetype": "text/x-python",
   "name": "python",
   "nbconvert_exporter": "python",
   "pygments_lexer": "ipython3",
   "version": "3.7.4"
  }
 },
 "nbformat": 4,
 "nbformat_minor": 4
}
