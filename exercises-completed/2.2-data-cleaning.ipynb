{
 "cells": [
  {
   "cell_type": "markdown",
   "metadata": {},
   "source": [
    "# 2.2 Cleaning Data with Pandas\n",
    "\n",
    "Data cleaning is most of the work when it comes to data analysis. So lets cover the important parts here. Lets load in some data from the Internet Movie Database to clean up and explore."
   ]
  },
  {
   "cell_type": "code",
   "execution_count": null,
   "metadata": {},
   "outputs": [],
   "source": [
    "import pandas as pd\n",
    "import numpy as np"
   ]
  },
  {
   "cell_type": "code",
   "execution_count": null,
   "metadata": {},
   "outputs": [],
   "source": [
    "## CSV File\n",
    "df = pd.read_csv(\"../data/imdb.csv\")\n",
    "\n",
    "print(\"First 30 rows...\")\n",
    "display(df.head(30))\n",
    "\n",
    "print('info')\n",
    "df.info()"
   ]
  },
  {
   "cell_type": "markdown",
   "metadata": {},
   "source": [
    "## Handling Nulls\n",
    "\n",
    "Looking at the data above, you will see that some columns use the string `\\N` to denote a null. Lets replace both of these with an actual `np.nan` null value. We can use df.replace() to do this.\n"
   ]
  },
  {
   "cell_type": "code",
   "execution_count": null,
   "metadata": {},
   "outputs": [],
   "source": [
    "df = df.replace(r'\\N', np.nan) # Not the use of a raw string with r'' to avoid having to escape the \\ character.\n",
    "df.head(30)"
   ]
  },
  {
   "cell_type": "markdown",
   "metadata": {},
   "source": [
    "# Fixing Data Types\n",
    "\n",
    "Lets look at the documentation for the columns provided by imdb:\n",
    "- titleType (string) – the type/format of the title (e.g. movie, short, tvseries, tvepisode, video, etc)\n",
    "- primaryTitle (string) – the more popular title / the title used by the filmmakers on promotional materials at the point of release\n",
    "- originalTitle (string) - original title, in the original language\n",
    "- isAdult (boolean) - 0: non-adult title; 1: adult title\n",
    "- startYear (YYYY) – represents the release year of a title. In the case of TV Series, it is the series start year\n",
    "- endYear (YYYY) – TV Series end year. ‘\\N’ for all other title types\n",
    "- runtimeMinutes – primary runtime of the title, in minutes\n",
    "- genres (string array) – includes up to three genres associated with the title\n",
    "- averageRating – weighted average of all the individual user ratings\n",
    "- numVotes - number of votes the title has received\n",
    "\n",
    "If we call df.info() we can get an idea of our datatypes and other info:\n"
   ]
  },
  {
   "cell_type": "code",
   "execution_count": null,
   "metadata": {},
   "outputs": [],
   "source": [
    "df.info()"
   ]
  },
  {
   "cell_type": "markdown",
   "metadata": {},
   "source": [
    "From this we can see that some columns arent in the format we'd want. runtimeMinutes, startYear and endYear are currently `object` columns, isAdult is a float64 column when it could be a boolean.\n",
    "\n",
    "Lets fix these:"
   ]
  },
  {
   "cell_type": "code",
   "execution_count": null,
   "metadata": {},
   "outputs": [],
   "source": [
    "# Convert isAdult by simply changing its type.\n",
    "df['isAdult'] = df['isAdult'].astype(bool)"
   ]
  },
  {
   "cell_type": "code",
   "execution_count": null,
   "metadata": {},
   "outputs": [],
   "source": [
    "# We can convert string columns to numeric with pd.to_numeric()\n",
    "df['startYear'] = pd.to_numeric(df['startYear'], errors='coerce') # turn non-numeric records into np.nan\n",
    "df['endYear'] = pd.to_numeric(df['endYear'], errors='coerce') # turn non-numeric records into np.nan\n",
    "df['runtimeMinutes'] = pd.to_numeric(df['runtimeMinutes'], errors='coerce') # turn non-numeric records into np.nan\n",
    "\n",
    "# Check our info again\n",
    "df.info()\n",
    "\n",
    "df.head(30)"
   ]
  },
  {
   "cell_type": "markdown",
   "metadata": {},
   "source": [
    "## Adding columns\n",
    "\n",
    "We might want to add extra columns to our dataframe. We can do this by assigning a value to a new column name. This can either be a single value or an expression that uses the data in our other columns.\n",
    "\n",
    "Lets add a decade column based on the startYear column.\n",
    "\n"
   ]
  },
  {
   "cell_type": "code",
   "execution_count": null,
   "metadata": {},
   "outputs": [],
   "source": [
    "# Divide by 10 and round down to get the decade. \n",
    "# We can apply np.floor to the result of our division to do the rounding.\n",
    "df['decade'] = ((df['startYear'] / 10).apply(np.floor) * 10)\n",
    "df"
   ]
  },
  {
   "cell_type": "markdown",
   "metadata": {},
   "source": [
    "# Dropping Data\n",
    "\n",
    "Perhaps we want a nice safe dataset for our instructional class. Lets' drop the adult titles from our dataframe. We can do this with df.drop(). By default it will return a new dataframe with the data we specify dropped, if we use the argument `inplace=True` it will modifiy the dataframe in place without our having to re-assign df to the result. \n",
    "\n",
    "Drop takes alist of column or index values to drop from the dataframe."
   ]
  },
  {
   "cell_type": "code",
   "execution_count": null,
   "metadata": {},
   "outputs": [],
   "source": [
    "# Get the index of all the titles we want to drop.\n",
    "adult = df[df['isAdult'] == True].index\n",
    "\n",
    "# Drop the data\n",
    "df.drop(adult, inplace=True)\n",
    "\n",
    "df"
   ]
  },
  {
   "cell_type": "markdown",
   "metadata": {},
   "source": [
    "Now that that's dropped all records wheere isAdult is True, we dont really need the column any more."
   ]
  },
  {
   "cell_type": "code",
   "execution_count": null,
   "metadata": {},
   "outputs": [],
   "source": [
    "df.drop(columns='isAdult', inplace=True)\n",
    "df"
   ]
  },
  {
   "cell_type": "markdown",
   "metadata": {},
   "source": [
    "That's a good start. We can start to explore the data in the next notebook. Theres a version of this saved already as imdb_clean so you can jump ahead to the next notebook and try that out now."
   ]
  }
 ],
 "metadata": {
  "kernelspec": {
   "display_name": "Python 3",
   "language": "python",
   "name": "python3"
  },
  "language_info": {
   "codemirror_mode": {
    "name": "ipython",
    "version": 3
   },
   "file_extension": ".py",
   "mimetype": "text/x-python",
   "name": "python",
   "nbconvert_exporter": "python",
   "pygments_lexer": "ipython3",
   "version": "3.7.4"
  }
 },
 "nbformat": 4,
 "nbformat_minor": 4
}
