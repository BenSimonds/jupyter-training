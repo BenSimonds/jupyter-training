{
 "cells": [
  {
   "cell_type": "markdown",
   "metadata": {},
   "source": [
    "# 2.4 Data Transformation\n",
    "\n",
    "So far we've covered basic exploration of the data. But often we want to see it in a different shape. Aggregations are one way of doing this, reshaping and pivoting are others."
   ]
  },
  {
   "cell_type": "code",
   "execution_count": null,
   "metadata": {},
   "outputs": [],
   "source": [
    "import pandas as pd\n",
    "import numpy as np"
   ]
  },
  {
   "cell_type": "code",
   "execution_count": null,
   "metadata": {},
   "outputs": [],
   "source": [
    "df = pd.read_csv(\"data/imdb_clean.csv\")\n",
    "\n",
    "# Show the first few rows of data with df.head()\n",
    "df.head()"
   ]
  },
  {
   "cell_type": "markdown",
   "metadata": {},
   "source": [
    "## Pivoting Data\n",
    "\n",
    "Suppose we want to know the number of titles released per year, by type. Lets pivot the data into a format that shows that with df.pivot_table()\n",
    "\n",
    "### A note on `pivot` and `pivot_table`\n",
    "Pandas dataframes have two pivot methods. `pivot()` is used where the data is only being reshaped and no aggregation is being performed. `pivot_table()` lets us specify an aggregation, and works more like a pivot table in excel for example.\n"
   ]
  },
  {
   "cell_type": "code",
   "execution_count": null,
   "metadata": {},
   "outputs": [],
   "source": [
    "types_by_year = df.pivot_table(\n",
    "    index='startYear', # Specify what you want in the rows here - you can use a list of columns too.\n",
    "    columns='titleType', # Specify what you want in the columns here - you can use a list of columns too.\n",
    "    aggfunc='count', # Which aggregation you want to use.\n",
    "    values = 'id' # What column you want to aggregate\n",
    ")\n",
    "\n",
    "display(types_by_year)"
   ]
  },
  {
   "cell_type": "markdown",
   "metadata": {},
   "source": [
    "## Aggregating Data\n",
    "\n",
    "Aggregating data in pandas is most often done with `groupby`. This creates a 'grouper' object that you can reuse to generate multiple aggregations.\n",
    "\n",
    "Lets group our datafame by year and titleType, and then find some other statistics."
   ]
  },
  {
   "cell_type": "code",
   "execution_count": null,
   "metadata": {},
   "outputs": [],
   "source": [
    "grouper = df.groupby(['startYear','titleType'])"
   ]
  },
  {
   "cell_type": "markdown",
   "metadata": {},
   "source": [
    "We can pull columns we'd like to aggregate from the groupby and aggregate them. Lets get the average of all the ratings, and the total number of votes."
   ]
  },
  {
   "cell_type": "code",
   "execution_count": null,
   "metadata": {},
   "outputs": [],
   "source": [
    "ratings_by_year_type = grouper.agg({'averageRating':'mean', 'numVotes': 'sum'})\n",
    "ratings_by_year_type"
   ]
  },
  {
   "cell_type": "markdown",
   "metadata": {},
   "source": [
    "You might notice startYear and titleType in bold above. This is because they are now both part of the index - when we use groupby pandas creates a new index using the columns youve grouped by. Where there are multiple columns pandas creates a hierarchical index called a multiindex. We can access values from it like this."
   ]
  },
  {
   "cell_type": "code",
   "execution_count": null,
   "metadata": {},
   "outputs": [],
   "source": [
    "# Get ratings for movies in 2001\n",
    "ratings_by_year_type.loc[(2001,'movie')].round(1) # Round to the nearest 1 DP."
   ]
  },
  {
   "cell_type": "markdown",
   "metadata": {},
   "source": [
    "If we want to work with the index columns as pandas series objects again, we can use reset_index() to move these columns back into the dataframe, and generate a simple numeric index."
   ]
  },
  {
   "cell_type": "code",
   "execution_count": null,
   "metadata": {},
   "outputs": [],
   "source": [
    "ratings_by_year_type.reset_index()"
   ]
  },
  {
   "cell_type": "markdown",
   "metadata": {},
   "source": [
    "## Joining Data\n",
    "\n",
    "We can join data in pandas in similar ways to SQL. Datarframes can be joined in a similar fashion to a sql join with pd.merge(). Dataframes can also be unioned with `pd.concat()`. `pd.concat` can also be used to join dataframes that share common index values by changing the axis it operates on.\n",
    "\n",
    "Lets join the average rating for the year back to our original dataframe and calculate the difference from the mean."
   ]
  },
  {
   "cell_type": "code",
   "execution_count": null,
   "metadata": {},
   "outputs": [],
   "source": [
    "joined_df = pd.merge(\n",
    "    df,\n",
    "    ratings_by_year_type,\n",
    "    left_on=['startYear','titleType'], # We want to use these columns from the original dataframe.\n",
    "    right_index=True, # On our aggregate dataframe, these columns form our index.\n",
    "    suffixes=[\"\",\"Overall\"] # We can add a suffix to names on each side where they conflict (optional)\n",
    "    \n",
    ")\n",
    "\n",
    "# conflicts on column_names \n",
    "joined_df['averageRatingDifference'] = joined_df['averageRatingOverall'] - joined_df['averageRating']\n",
    "joined_df"
   ]
  },
  {
   "cell_type": "code",
   "execution_count": null,
   "metadata": {},
   "outputs": [],
   "source": [
    "# Concatenating data works like this.\n",
    "\n",
    "movies_2020 = df.loc[(df['startYear'] == 2020) & (df['titleType'] =='movie')]\n",
    "video_games_2000 = df.loc[(df['startYear'] == 2000) & (df['titleType'] =='videoGame')]\n",
    "short_films_1990 = df.loc[(df['startYear'] == 1990) & (df['titleType'] =='short')]\n",
    "\n",
    "# Concatenate the data together\n",
    "combined = pd.concat([movies_2020, video_games_2000, short_films_1990])\n",
    "\n",
    "# View a few rows sorted by title.\n",
    "combined.sort_values(by='primaryTitle').head(20)"
   ]
  },
  {
   "cell_type": "markdown",
   "metadata": {},
   "source": [
    "## Excercises\n",
    "\n",
    "Using the IMDB movie dataset.\n",
    "\n",
    "- Create a pivot table showing the average  of all the episode reviews for Cheers, Friends, and Seinfeld by season.\n",
    "- Generate a summary of the number of moview with \"War\" in the genre column by decade.\n",
    "- Generate a summary of the number of moview as a proportion of all movies by decade."
   ]
  },
  {
   "cell_type": "code",
   "execution_count": null,
   "metadata": {},
   "outputs": [],
   "source": [
    "# Cheers, Friends, and Seinfeld.\n",
    "shows = ['Cheers','Friends','Seinfeld']\n",
    "\n",
    "shows_df = df.loc[df['parentTitle'].isin(shows)]\n",
    "\n",
    "shows_df.pivot_table(index='parentTitle', columns='seasonNumber', values='averageRating', aggfunc='mean')\n"
   ]
  },
  {
   "cell_type": "code",
   "execution_count": null,
   "metadata": {},
   "outputs": [],
   "source": [
    "\n",
    "# War movies by decade.\n",
    "\n",
    "# Create a new dataframe with just our war movies.\n",
    "war_movies = df['genres'].fillna('').str.contains('War') & (df['titleType'] == 'movie')\n",
    "war_movies_df = df.loc[war_movies].copy()\n",
    "\n",
    "# Calculate the number per decade.\n",
    "war_movies_by_decade = war_movies_df.groupby('decade').size()\n",
    "war_movies_by_decade"
   ]
  },
  {
   "cell_type": "code",
   "execution_count": null,
   "metadata": {},
   "outputs": [],
   "source": [
    "# What about all movies?\n",
    "movies = df['titleType'] == 'movie'\n",
    "movies_by_decade = df.loc[movies].groupby('decade').size()\n",
    "movies_by_decade"
   ]
  },
  {
   "cell_type": "code",
   "execution_count": null,
   "metadata": {},
   "outputs": [],
   "source": [
    "# We can put  these in a dataframe by concatenating them together.\n",
    "compare_df = pd.concat([war_movies_by_decade, movies_by_decade], axis=1)\n",
    "compare_df.columns = ['warMovies', 'allMovies']\n",
    "\n",
    "compare_df['percentWarMovies'] = (\n",
    "    (compare_df['warMovies'] / compare_df['allMovies'] * 100)\n",
    "    .round(1) # Round to 0.1%\n",
    "    .fillna(0) # Fill na with zero.\n",
    ")\n",
    "compare_df"
   ]
  },
  {
   "cell_type": "code",
   "execution_count": null,
   "metadata": {},
   "outputs": [],
   "source": []
  }
 ],
 "metadata": {
  "kernelspec": {
   "display_name": "Python 3",
   "language": "python",
   "name": "python3"
  },
  "language_info": {
   "codemirror_mode": {
    "name": "ipython",
    "version": 3
   },
   "file_extension": ".py",
   "mimetype": "text/x-python",
   "name": "python",
   "nbconvert_exporter": "python",
   "pygments_lexer": "ipython3",
   "version": "3.7.4"
  }
 },
 "nbformat": 4,
 "nbformat_minor": 4
}
