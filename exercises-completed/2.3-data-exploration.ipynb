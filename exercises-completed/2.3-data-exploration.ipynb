{
 "cells": [
  {
   "cell_type": "markdown",
   "metadata": {},
   "source": [
    "# 2.2 Data Exloration with Pandas\n",
    "\n",
    "Now that we have covered some basic numpy and pandas concepts it's time to load some data and do some exploration to get more familiar with using pandas dataframes.\n",
    "\n",
    "## Load Some Movie Reviews\n",
    "\n",
    "Provided with this data are some movie reviews extracted from https://www.imdb.com/interfaces/. See the extras folder for how these were downloaded and modified."
   ]
  },
  {
   "cell_type": "code",
   "execution_count": null,
   "metadata": {},
   "outputs": [],
   "source": [
    "import pandas as pd\n",
    "import numpy as np"
   ]
  },
  {
   "cell_type": "code",
   "execution_count": null,
   "metadata": {},
   "outputs": [],
   "source": [
    "df = pd.read_csv(\"data/imdb_clean.csv\")\n",
    "\n",
    "# Show the first few rows of data with df.head()\n",
    "df.head()"
   ]
  },
  {
   "cell_type": "code",
   "execution_count": null,
   "metadata": {},
   "outputs": [],
   "source": [
    "df.info()"
   ]
  },
  {
   "cell_type": "markdown",
   "metadata": {},
   "source": [
    "Questions to answer:\n",
    "\n",
    "1. How many items are in the dataset? *(easy)*\n",
    "2. What's the oldest movie in the dataset? *(easy)*\n",
    "3. What movie has the most rating votes? ? *(easy)*\n",
    "4. In which year were the most movies released? *(medium)*\n",
    "5. Which movie has the lowest rating? Use the number of votes cast as a tiebreaker. *(medium)*\n",
    "6. Which genre has the most movies? *(extra hard)*"
   ]
  },
  {
   "cell_type": "markdown",
   "metadata": {},
   "source": [
    "### 1. How many items are in the dataset? *(easy)*"
   ]
  },
  {
   "cell_type": "code",
   "execution_count": null,
   "metadata": {},
   "outputs": [],
   "source": [
    "# Add your soltion to question 1 here. \n",
    "# Hint: Try df.shape\n",
    "\n",
    "df.shape[0]"
   ]
  },
  {
   "cell_type": "markdown",
   "metadata": {},
   "source": [
    "### 2. What's the oldest movie in the dataset? *(easy)*"
   ]
  },
  {
   "cell_type": "code",
   "execution_count": null,
   "metadata": {},
   "outputs": [],
   "source": [
    "# Add your solution to question 2 here.\n",
    "# Hint 1: try out the sort_values method function on the dataframe.\n",
    "# Hint 2: try the idxmin method on the startYear column\n",
    "\n",
    "df.loc[df['startYear'].idxmin()]"
   ]
  },
  {
   "cell_type": "markdown",
   "metadata": {},
   "source": [
    "### 3. What movie has the most rating votes? *(easy)*"
   ]
  },
  {
   "cell_type": "code",
   "execution_count": null,
   "metadata": {},
   "outputs": [],
   "source": [
    "# Add your solution to question 3 here.\n",
    "# Hint - similar to question 2\n",
    "df.loc[df['numVotes'].idxmax()]"
   ]
  },
  {
   "cell_type": "markdown",
   "metadata": {},
   "source": [
    "### 4. In which year were the most movies released? *(medium)*"
   ]
  },
  {
   "cell_type": "code",
   "execution_count": null,
   "metadata": {},
   "outputs": [],
   "source": [
    "# Add your solution to question 4 here:\n",
    "# Hint: try out the value_counts function on the startYear column\n",
    "\n",
    "df['startYear'].value_counts()"
   ]
  },
  {
   "cell_type": "markdown",
   "metadata": {},
   "source": [
    "### 5. Which movie has the lowest rating? Use the number of votes cast as a tiebreaker. *(medium)*"
   ]
  },
  {
   "cell_type": "code",
   "execution_count": null,
   "metadata": {},
   "outputs": [],
   "source": [
    "# Add your solution to question 5 here:\n",
    "# Hint, try the sort_values function with some extra arguments.\n",
    "\n",
    "df.sort_values(by=['averageRating','numVotes'], ascending=[True, False])"
   ]
  },
  {
   "cell_type": "markdown",
   "metadata": {},
   "source": [
    "### 6. Which genre has the most movies? *(hard)*"
   ]
  },
  {
   "cell_type": "code",
   "execution_count": null,
   "metadata": {},
   "outputs": [],
   "source": [
    "# Add your solution to question 6 here,\n",
    "# This one is really for extra credit - I havent covered everything you'd need to know to get this yet.\n",
    "\n",
    "# We'll need to first unpack the string data for the genres column.\n",
    "# First split the genres column into lists, and then use the explode() method to turn those lists into separate rows.\n",
    "genres = df['genres'].str.split(',').explode()\n",
    "display(genres.head())\n",
    "\n",
    "print('\\nTop Genres by number of titles:')\n",
    "# We can then call value_counts on genres to find the biggest one.\n",
    "genres.value_counts()\n",
    "\n"
   ]
  },
  {
   "cell_type": "code",
   "execution_count": null,
   "metadata": {},
   "outputs": [],
   "source": []
  }
 ],
 "metadata": {
  "kernelspec": {
   "display_name": "Python 3",
   "language": "python",
   "name": "python3"
  },
  "language_info": {
   "codemirror_mode": {
    "name": "ipython",
    "version": 3
   },
   "file_extension": ".py",
   "mimetype": "text/x-python",
   "name": "python",
   "nbconvert_exporter": "python",
   "pygments_lexer": "ipython3",
   "version": "3.7.4"
  }
 },
 "nbformat": 4,
 "nbformat_minor": 4
}
