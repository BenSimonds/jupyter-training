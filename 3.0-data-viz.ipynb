{
 "cells": [
  {
   "cell_type": "markdown",
   "metadata": {},
   "source": [
    "# Data Visualisation in Jupyter/Python\n",
    "\n",
    "\n",
    "Data viz is a big topic with a lot of libraries available to help. Some of the best are:\n",
    "\n",
    " - Matplotlib - this is the most common library on which a number of other visualisation libraries are built. It has a steep-ish learning curve but is very versatile. It is also well integrated with pandas.\n",
    " - Seaborn - statistical plotting library built on matplotlib with prettier defaults\n",
    " - Bokeh - plotting library with a focus on interactivity\n",
    " - Plotly - declarative, plotting framework with support for a variety of languages (python, javascript, R) and applicable to a number of different use cases - jupter notebooks, scripts, web frontends etc.\n",
    " \n",
    "For today we'll stick to the basics in matplotlib and the built in options in pandas.\n",
    "\n",
    "## Time series data\n",
    "\n",
    "Pandas and matplotlib have great support for timeseries data. Lets load some to try out."
   ]
  },
  {
   "cell_type": "code",
   "execution_count": null,
   "metadata": {},
   "outputs": [],
   "source": [
    "import pandas as pd\n",
    "import numpy as np\n",
    "\n",
    "# Note that this loads our data as a dataframe even though the result only has one column (and an index)\n",
    "df = pd.read_csv('data/tsla_share_price.csv', index_col='Date')\n",
    "df.head()"
   ]
  },
  {
   "cell_type": "markdown",
   "metadata": {},
   "source": [
    "## Matplotlib Setup and our first plot"
   ]
  },
  {
   "cell_type": "code",
   "execution_count": null,
   "metadata": {},
   "outputs": [],
   "source": [
    "# Some jupyter magic to have our charts automatically show up in our results.\n",
    "%matplotlib inline\n",
    "\n",
    "\n",
    "# We can plot a series with a datetime axis just by calling plot() on it!\n",
    "df['Close'].plot() # Oh man, should have bought tesla stock..."
   ]
  },
  {
   "cell_type": "code",
   "execution_count": null,
   "metadata": {},
   "outputs": [],
   "source": [
    "# The default arguments to a good job here but we can make our chart a bit bigger with some extra arguments.\n",
    "\n",
    "df['Close'].plot(figsize=(20,5))"
   ]
  },
  {
   "cell_type": "markdown",
   "metadata": {},
   "source": [
    "## Bar Charts\n",
    "\n",
    "Lets plot a bar chart showing the nunber of title by type in our data."
   ]
  },
  {
   "cell_type": "code",
   "execution_count": null,
   "metadata": {},
   "outputs": [],
   "source": [
    "# Load our imdb data\n",
    "df_imdb = pd.read_csv('data/imdb_clean.csv')\n",
    "\n",
    "# Get the number of values of each type with value_counts()\n",
    "df_imdb['titleType'].value_counts()"
   ]
  },
  {
   "cell_type": "code",
   "execution_count": null,
   "metadata": {},
   "outputs": [],
   "source": [
    "# The default plot type when calling plot is a line plot but we can overide this.\n",
    "df_imdb['titleType'].value_counts().plot(kind='bar')"
   ]
  },
  {
   "cell_type": "markdown",
   "metadata": {},
   "source": [
    "Lets see how the number of movies released per year changed over time"
   ]
  },
  {
   "cell_type": "code",
   "execution_count": null,
   "metadata": {},
   "outputs": [],
   "source": [
    "# Create a slice of our dataframe featuring just movies up to 2019 (to ignore the current incomplete year)\n",
    "df_movies = df_imdb.loc[(df_imdb['titleType'] == 'movie') & (df_imdb['startYear'] < 2020)]\n",
    "\n",
    "# plot the number of titles by year.\n",
    "df_movies.groupby('startYear').size().plot()"
   ]
  },
  {
   "cell_type": "markdown",
   "metadata": {},
   "source": [
    "## Matplotlib Figures and Sublots\n",
    "\n",
    "In the above we've just used the plot() method on dataframes and series objects. We can use matplotlib.pyplot to make this a bit more customised.\n",
    "\n",
    "Matlotlib divides charts into Figures (an overall container including titles, axes, etc.) and subplots (one or more areas where data is actually plotted)."
   ]
  },
  {
   "cell_type": "code",
   "execution_count": null,
   "metadata": {},
   "outputs": [],
   "source": [
    "import matplotlib.pyplot as plt # A common convention.\n",
    "\n",
    "# Create a figure and a subplot (which we call ax by convention)\n",
    "fig, ax = plt.subplots(figsize=(20,8))\n",
    "\n",
    "\n",
    "# We can iterate over a grouper to generate mutiple plot traces.\n",
    "for name, data in df_imdb.groupby(['titleType']):\n",
    "\n",
    "    # Generate a series of yearly title numbers\n",
    "    yearly_counts = data.groupby('startYear').size()\n",
    "\n",
    "    # plot this data on the subplot\n",
    "    ax.plot(\n",
    "        yearly_counts.index,  # Our x values come from the series index\n",
    "        yearly_counts, # The series values are our y values\n",
    "        label=name # The label for this data is the group name\n",
    "    )\n",
    "\n",
    "ax.legend()\n",
    "plt.show()"
   ]
  },
  {
   "cell_type": "markdown",
   "metadata": {},
   "source": [
    "## Excercise: Plot the average rating for each Simpsons episode!\n",
    "\n",
    "As a guide you might want to break this down into steps:\n",
    "\n",
    "- First get a dataframe with just the simpsones episodes.\n",
    "- Generate a string column for the season and episode number together e.g. S01-E01\n",
    "- Generate a plot with the data for each episode."
   ]
  },
  {
   "cell_type": "code",
   "execution_count": null,
   "metadata": {},
   "outputs": [],
   "source": [
    "# Generate Dataframe"
   ]
  },
  {
   "cell_type": "code",
   "execution_count": null,
   "metadata": {},
   "outputs": [],
   "source": [
    "# Genrate a string for the season and episode numbers."
   ]
  },
  {
   "cell_type": "code",
   "execution_count": null,
   "metadata": {},
   "outputs": [],
   "source": [
    "# Generate a plot. I've initialised the figure and axes already and left some blanks to fill in.\n",
    "fig, ax = plt.subplots(figsize=(20,10))\n",
    "\n",
    "\n",
    "ax.plot(\n",
    "    X_AXIS_VALUES_HERE,\n",
    "    Y_AXIS_VALUES_HERE,\n",
    ")\n",
    "\n",
    "\n",
    "ax.set_title(\"Simpsons Episode Ratings by Episode\")\n",
    "\n",
    "plt.show()"
   ]
  },
  {
   "cell_type": "code",
   "execution_count": null,
   "metadata": {},
   "outputs": [],
   "source": []
  }
 ],
 "metadata": {
  "kernelspec": {
   "display_name": "Python 3",
   "language": "python",
   "name": "python3"
  },
  "language_info": {
   "codemirror_mode": {
    "name": "ipython",
    "version": 3
   },
   "file_extension": ".py",
   "mimetype": "text/x-python",
   "name": "python",
   "nbconvert_exporter": "python",
   "pygments_lexer": "ipython3",
   "version": "3.7.4"
  }
 },
 "nbformat": 4,
 "nbformat_minor": 4
}
