{
 "cells": [
  {
   "cell_type": "markdown",
   "metadata": {},
   "source": [
    "# 0.0 Intro to Notebooks\n",
    "\n",
    "This is a *markdown* cell, we can add **rich** *formatting* with markdown `syntax`.\n",
    "\n",
    "Click on the cell and hit `enter` to edit it. When you're done hit `shift-enter` to run the cell and render it into HTML."
   ]
  },
  {
   "cell_type": "code",
   "execution_count": null,
   "metadata": {},
   "outputs": [],
   "source": [
    "# This is a code cell, when we run it the code is evaluated and the output (if any) is stored with the cell.\n",
    "# Click on it an hit enter to edit it. When you're done hit shift-enter to run it.\n",
    "from datetime import datetime\n",
    "\n",
    "now = datetime.now() \n",
    "\n",
    "print(\"The current date and time is \", now)"
   ]
  },
  {
   "cell_type": "markdown",
   "metadata": {},
   "source": [
    "Cells are executed in order, not the number to the left of the cell denoting the order it was run in.\n"
   ]
  },
  {
   "cell_type": "code",
   "execution_count": null,
   "metadata": {},
   "outputs": [],
   "source": [
    "a = \"foo\""
   ]
  },
  {
   "cell_type": "code",
   "execution_count": null,
   "metadata": {},
   "outputs": [],
   "source": [
    "print(a)"
   ]
  },
  {
   "cell_type": "code",
   "execution_count": null,
   "metadata": {},
   "outputs": [],
   "source": [
    "a = \"bar\""
   ]
  },
  {
   "cell_type": "markdown",
   "metadata": {},
   "source": [
    "## Excercises\n",
    "To get familiar with using notebooks.\n",
    "\n",
    "1. Try out writing cells in markdown and python and running them.\n",
    "2. Try restarting the kernel (Kernel -> Restart Kernel... from the menu bar) for the notebook and running cells in different orders.\n",
    "3. Try switching a cell between code and markdown.\n",
    "\n",
    "Some useful keyboard shorcuts:\n",
    "- Enter to run a cell\n",
    "- Shift-Enter to run a cell and select the one below.\n",
    "- Alt-Enter to run a cell and insert one below\n",
    "- Use the arrow keys to navigate cells."
   ]
  },
  {
   "cell_type": "code",
   "execution_count": null,
   "metadata": {},
   "outputs": [],
   "source": []
  }
 ],
 "metadata": {
  "kernelspec": {
   "display_name": "Python 3",
   "language": "python",
   "name": "python3"
  },
  "language_info": {
   "codemirror_mode": {
    "name": "ipython",
    "version": 3
   },
   "file_extension": ".py",
   "mimetype": "text/x-python",
   "name": "python",
   "nbconvert_exporter": "python",
   "pygments_lexer": "ipython3",
   "version": "3.7.4"
  }
 },
 "nbformat": 4,
 "nbformat_minor": 4
}
