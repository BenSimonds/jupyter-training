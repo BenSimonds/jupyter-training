{
 "cells": [
  {
   "cell_type": "markdown",
   "metadata": {},
   "source": [
    "# 1.2 🐼 Pandas Core Concepts - `pandas.Series`\n",
    "\n",
    "Numpy is fairly low level. We want to manipulate our data in more descriptive ways. Pandas lets us do just that. It extends the concepts of Numpy above, adding labels to our data in the form of indices.\n"
   ]
  },
  {
   "cell_type": "code",
   "execution_count": 8,
   "metadata": {},
   "outputs": [],
   "source": [
    "# It convention to import numpy as 'np'.\n",
    "import numpy as np\n",
    "# It's customary to import pandas as pd\n",
    "import pandas as pd"
   ]
  },
  {
   "cell_type": "code",
   "execution_count": 158,
   "metadata": {},
   "outputs": [
    {
     "data": {
      "text/plain": [
       "grapefruit    0.50\n",
       "watermelon    2.10\n",
       "apple         0.50\n",
       "banana        0.19\n",
       "starfruit     1.29\n",
       "Name: fruits, dtype: float64"
      ]
     },
     "metadata": {},
     "output_type": "display_data"
    }
   ],
   "source": [
    "# Lets create a series that holds the price of some fruit\n",
    "s = pd.Series(\n",
    "    [0.50, 2.10, 0.50, 0.19, 1.29], index=['grapefruit','watermelon','apple','banana','starfruit'], name='fruits'\n",
    ")\n",
    "\n",
    "display(s)"
   ]
  },
  {
   "cell_type": "markdown",
   "metadata": {},
   "source": [
    "The index of a series is a list of values that label each datapoint in that series. They can be of any hashable datatype - strings and integers are the most common, along with a datetime indices for time series data.\n",
    "\n",
    "A series can optionally have a name that labels what the data represents."
   ]
  },
  {
   "cell_type": "code",
   "execution_count": 144,
   "metadata": {},
   "outputs": [
    {
     "data": {
      "text/plain": [
       "Index(['grapefruit', 'watermelon', 'apple', 'banana', 'starfruit'], dtype='object')"
      ]
     },
     "metadata": {},
     "output_type": "display_data"
    }
   ],
   "source": [
    "display(s.index)"
   ]
  },
  {
   "cell_type": "code",
   "execution_count": 159,
   "metadata": {},
   "outputs": [
    {
     "data": {
      "text/plain": [
       "array([0.5 , 2.1 , 0.5 , 0.19, 1.29])"
      ]
     },
     "metadata": {},
     "output_type": "display_data"
    }
   ],
   "source": [
    "display(s.values)"
   ]
  },
  {
   "cell_type": "code",
   "execution_count": 160,
   "metadata": {},
   "outputs": [
    {
     "data": {
      "text/plain": [
       "'fruits'"
      ]
     },
     "metadata": {},
     "output_type": "display_data"
    }
   ],
   "source": [
    "display(s.name)"
   ]
  },
  {
   "cell_type": "markdown",
   "metadata": {},
   "source": [
    "### Accessing Series Values\n",
    "\n",
    "We can access the values in our series in a variety of ways. \n",
    "\n",
    " - With its label using the standard dictionary like accessor eg. `['foo']`\n",
    " - With its label index using the `.loc` accessor\n",
    " - With its numeric index using the `.iloc` accessor"
   ]
  },
  {
   "cell_type": "code",
   "execution_count": 146,
   "metadata": {},
   "outputs": [
    {
     "data": {
      "text/plain": [
       "0.5"
      ]
     },
     "execution_count": 146,
     "metadata": {},
     "output_type": "execute_result"
    }
   ],
   "source": [
    "s['apple']"
   ]
  },
  {
   "cell_type": "code",
   "execution_count": 147,
   "metadata": {},
   "outputs": [
    {
     "data": {
      "text/plain": [
       "2.1"
      ]
     },
     "execution_count": 147,
     "metadata": {},
     "output_type": "execute_result"
    }
   ],
   "source": [
    "s.loc['watermelon']"
   ]
  },
  {
   "cell_type": "code",
   "execution_count": 148,
   "metadata": {},
   "outputs": [
    {
     "data": {
      "text/plain": [
       "0.19"
      ]
     },
     "execution_count": 148,
     "metadata": {},
     "output_type": "execute_result"
    }
   ],
   "source": [
    "s.iloc[3] # Remember arrays are zero based."
   ]
  },
  {
   "cell_type": "markdown",
   "metadata": {},
   "source": [
    "At first the `.loc` accessor might seem redundant, but it allows us to do some powerful things.\n"
   ]
  },
  {
   "cell_type": "code",
   "execution_count": 149,
   "metadata": {},
   "outputs": [
    {
     "data": {
      "text/plain": [
       "watermelon    2.10\n",
       "apple         0.50\n",
       "banana        0.19\n",
       "dtype: float64"
      ]
     },
     "execution_count": 149,
     "metadata": {},
     "output_type": "execute_result"
    }
   ],
   "source": [
    "# Slice along the axis (in the order of the axis - not alphabetical order unless you sort the index first)\n",
    "s.loc['watermelon':'banana']"
   ]
  },
  {
   "cell_type": "code",
   "execution_count": 150,
   "metadata": {},
   "outputs": [
    {
     "data": {
      "text/plain": [
       "watermelon    2.10\n",
       "banana        0.19\n",
       "starfruit     1.29\n",
       "dtype: float64"
      ]
     },
     "execution_count": 150,
     "metadata": {},
     "output_type": "execute_result"
    }
   ],
   "source": [
    "# Supply a list of True, or False values to return all the True ones.\n",
    "s.loc[[False, True, False, True, True]]"
   ]
  },
  {
   "cell_type": "markdown",
   "metadata": {},
   "source": [
    "# Series Operations\n",
    "We can do the same kinds of operations on a Series as we could on a numpy array.\n"
   ]
  },
  {
   "cell_type": "code",
   "execution_count": 151,
   "metadata": {},
   "outputs": [
    {
     "data": {
      "text/plain": [
       "grapefruit    1.50\n",
       "watermelon    3.10\n",
       "apple         1.50\n",
       "banana        1.19\n",
       "starfruit     2.29\n",
       "dtype: float64"
      ]
     },
     "execution_count": 151,
     "metadata": {},
     "output_type": "execute_result"
    }
   ],
   "source": [
    "# Operations where once input is a scalar are 'broadcast' to the whole series.\n",
    "s + 1"
   ]
  },
  {
   "cell_type": "code",
   "execution_count": 152,
   "metadata": {},
   "outputs": [
    {
     "data": {
      "text/plain": [
       "0.916"
      ]
     },
     "execution_count": 152,
     "metadata": {},
     "output_type": "execute_result"
    }
   ],
   "source": [
    "# Pandas series share many of the aggregate functions of a numpy array\n",
    "s.mean()"
   ]
  },
  {
   "cell_type": "markdown",
   "metadata": {},
   "source": [
    "# The `apply` method\n",
    "\n",
    "The `apply` method is one of the more powerful concepts in pandas. It will loop over each value in the series (or DataFrame - see below) and apply a function to it."
   ]
  },
  {
   "cell_type": "code",
   "execution_count": 153,
   "metadata": {},
   "outputs": [
    {
     "data": {
      "text/plain": [
       "grapefruit        cheap\n",
       "watermelon    expensive\n",
       "apple             cheap\n",
       "banana            cheap\n",
       "starfruit     expensive\n",
       "dtype: object"
      ]
     },
     "execution_count": 153,
     "metadata": {},
     "output_type": "execute_result"
    }
   ],
   "source": [
    "# Decide which fruits are to expensive.\n",
    "\n",
    "def is_expensive(price):\n",
    "    if price > 1.0:\n",
    "        return 'expensive'\n",
    "    else:\n",
    "        return 'cheap'\n",
    "    \n",
    "s.apply(is_expensive)"
   ]
  },
  {
   "cell_type": "markdown",
   "metadata": {},
   "source": [
    "A handy shorthand for this if you are familiar with python's [lambda](https://www.w3schools.com/python/python_lambda.asp) syntax (not to be confused with AWS lambda) for anonymous functions is as follows:"
   ]
  },
  {
   "cell_type": "code",
   "execution_count": 154,
   "metadata": {},
   "outputs": [
    {
     "data": {
      "text/plain": [
       "grapefruit        cheap\n",
       "watermelon    expensive\n",
       "apple             cheap\n",
       "banana            cheap\n",
       "starfruit     expensive\n",
       "dtype: object"
      ]
     },
     "execution_count": 154,
     "metadata": {},
     "output_type": "execute_result"
    }
   ],
   "source": [
    "s.apply(lambda x: 'expensive' if x > 1 else 'cheap')"
   ]
  },
  {
   "cell_type": "markdown",
   "metadata": {},
   "source": [
    "#### A note about applies\n",
    "\n",
    "Earlier we noted that numpy has some nice fast methods for numeric aggregations and operations on arrays. This is true for pandas too, for example when we sum or add to a series. But applies are not paralleised - meaning that they will run slower than built in functions like `.sum()` or operators like adding or muliplication.\n",
    "\n",
    "This means you should be careful when using applies on large datasets that they arent slowing down your program. If you need to do an apply on a large set of data, there are ways to make this faster though - look into frameworks like https://dask.org/.\n",
    "\n",
    "A lot of the time though doing an apply is just fine, and they're extremely useful."
   ]
  },
  {
   "cell_type": "markdown",
   "metadata": {},
   "source": [
    "### nan values in Pandas\n",
    "\n",
    "nan values in pandas use the same np.nan value as numpy does. *However*, in pandas sums and means etc. ignore nan values by default."
   ]
  },
  {
   "cell_type": "code",
   "execution_count": 110,
   "metadata": {},
   "outputs": [
    {
     "data": {
      "text/plain": [
       "0    1.0\n",
       "1    2.0\n",
       "2    NaN\n",
       "3    7.0\n",
       "4    NaN\n",
       "dtype: float64"
      ]
     },
     "execution_count": 110,
     "metadata": {},
     "output_type": "execute_result"
    }
   ],
   "source": [
    "s2 = pd.Series([1,2,np.nan,7,np.nan])\n",
    "s2"
   ]
  },
  {
   "cell_type": "code",
   "execution_count": 111,
   "metadata": {},
   "outputs": [
    {
     "data": {
      "text/plain": [
       "10.0"
      ]
     },
     "execution_count": 111,
     "metadata": {},
     "output_type": "execute_result"
    }
   ],
   "source": [
    "s2.sum()"
   ]
  },
  {
   "cell_type": "markdown",
   "metadata": {},
   "source": [
    "Pandas also has some useful methods for selecting and filling nans.\n"
   ]
  },
  {
   "cell_type": "code",
   "execution_count": 124,
   "metadata": {},
   "outputs": [
    {
     "data": {
      "text/plain": [
       "0    False\n",
       "1    False\n",
       "2     True\n",
       "3    False\n",
       "4     True\n",
       "dtype: bool"
      ]
     },
     "metadata": {},
     "output_type": "display_data"
    },
    {
     "name": "stdout",
     "output_type": "stream",
     "text": [
      "\n",
      "Selected with isna()\n"
     ]
    },
    {
     "data": {
      "text/plain": [
       "2   NaN\n",
       "4   NaN\n",
       "dtype: float64"
      ]
     },
     "metadata": {},
     "output_type": "display_data"
    }
   ],
   "source": [
    "display(s2.isna())\n",
    "\n",
    "print(\"\\nSelected with isna()\")\n",
    "display(s2.loc[s2.isna()])"
   ]
  },
  {
   "cell_type": "markdown",
   "metadata": {},
   "source": [
    "The ~ (diacritical mark) is used to negate the values used in a selection like the above."
   ]
  },
  {
   "cell_type": "code",
   "execution_count": 118,
   "metadata": {},
   "outputs": [
    {
     "data": {
      "text/plain": [
       "0    1.0\n",
       "1    2.0\n",
       "3    7.0\n",
       "dtype: float64"
      ]
     },
     "execution_count": 118,
     "metadata": {},
     "output_type": "execute_result"
    }
   ],
   "source": [
    "s2.loc[~s2.isna()]"
   ]
  },
  {
   "cell_type": "markdown",
   "metadata": {},
   "source": [
    "But there's also a handy notna() method."
   ]
  },
  {
   "cell_type": "code",
   "execution_count": 155,
   "metadata": {},
   "outputs": [
    {
     "data": {
      "text/plain": [
       "0     True\n",
       "1     True\n",
       "2    False\n",
       "3     True\n",
       "4    False\n",
       "dtype: bool"
      ]
     },
     "execution_count": 155,
     "metadata": {},
     "output_type": "execute_result"
    }
   ],
   "source": [
    "s2.notna()"
   ]
  },
  {
   "cell_type": "markdown",
   "metadata": {},
   "source": [
    "## Pandas datatypes\n",
    "The most common datatypes you will see in pandas are:\n",
    "\n",
    "| dtype | description |\n",
    "|-------|---------------|\n",
    "| int64 | Integer Array |\n",
    "| float64 | Float Array |\n",
    "| object | Object/String array |\n",
    "| datetime64[ns] | datetime with nanosecond accuracy |\n",
    "| category | categorical data (e.g. strings with only a small number of valid options), <br/> may be ordered (e.g. low, medium, high) or unordered (e.g. apple, orange, banana) |\n",
    "\n"
   ]
  },
  {
   "cell_type": "code",
   "execution_count": null,
   "metadata": {},
   "outputs": [],
   "source": []
  }
 ],
 "metadata": {
  "kernelspec": {
   "display_name": "Python 3",
   "language": "python",
   "name": "python3"
  },
  "language_info": {
   "codemirror_mode": {
    "name": "ipython",
    "version": 3
   },
   "file_extension": ".py",
   "mimetype": "text/x-python",
   "name": "python",
   "nbconvert_exporter": "python",
   "pygments_lexer": "ipython3",
   "version": "3.7.4"
  }
 },
 "nbformat": 4,
 "nbformat_minor": 4
}
