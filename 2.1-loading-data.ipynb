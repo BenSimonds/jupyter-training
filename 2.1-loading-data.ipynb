{
 "cells": [
  {
   "cell_type": "markdown",
   "metadata": {},
   "source": [
    "# 2.1 Loading Data with Pandas\n",
    "\n",
    "Now that we have covered some basic numpy and pandas concepts it's time to load some data and do some exploration to get more familiar with using pandas dataframes.\n",
    "\n",
    "Pandas supports many ways of loading data into dataframes.\n",
    "\n",
    "You can load file-like data sources with methods like `pd.read_csv()` and the more generic `pd.read_table()`.\n",
    "\n",
    "You can load appropriately structured json with `pd.read_json()`, html tables with `pd.read_html()`, and a variety of formats like parquet, avro, hdf5, etc with either natively with pandas or in some cases with the help of extra libraries.\n",
    "\n",
    "You can load data from sql database connections with `pd.read_sql()`\n",
    "\n",
    "And of course most formats that can be read with `pd.read_x()` can be written to with `pd.to_x()`.\n",
    "\n",
    "## Load Some Data!\n"
   ]
  },
  {
   "cell_type": "code",
   "execution_count": null,
   "metadata": {},
   "outputs": [],
   "source": [
    "import pandas as pd\n",
    "import numpy as np"
   ]
  },
  {
   "cell_type": "markdown",
   "metadata": {},
   "source": [
    "## CSV Files\n",
    "\n",
    "Pretty much the most common format for exchanging data files, a csv file is just a text file with one row per line, and each value separaterd with a comma (CSV stands for Comma Separated Value)"
   ]
  },
  {
   "cell_type": "code",
   "execution_count": null,
   "metadata": {},
   "outputs": [],
   "source": [
    "# Here we load a dataset of measurements from plant species in the genus iris. \n",
    "# A famous early dataset in the field of statistics and machine learning.\n",
    "# https://en.wikipedia.org/wiki/Iris_flower_data_set\n",
    "df_iris = pd.read_csv(\"data/iris.csv\")\n",
    "df_iris"
   ]
  },
  {
   "cell_type": "markdown",
   "metadata": {},
   "source": [
    "## Excel Files\n",
    "\n",
    "Loading from excel files is fairly straightforward. If we just specify a file, pandas will try and read the first worksheet in the workbook, but we can add extra parameters to tell it what to load more specifically."
   ]
  },
  {
   "cell_type": "code",
   "execution_count": null,
   "metadata": {},
   "outputs": [],
   "source": [
    "df_quarterly_sales = pd.read_excel(\n",
    "    \"data/quarterly-sales.xlsx\",\n",
    "    sheet_name='Quarterly Report',  # We need to specify the sheet name to load data from\n",
    "    skiprows=3 # We can specify a number of rows to skip from the top of the sheet.\n",
    ")\n",
    "df_quarterly_sales"
   ]
  },
  {
   "cell_type": "markdown",
   "metadata": {},
   "source": [
    "## Loading json data\n",
    "\n",
    "Pandas supports loading data from json files, a popular format for storing data."
   ]
  },
  {
   "cell_type": "code",
   "execution_count": null,
   "metadata": {},
   "outputs": [],
   "source": [
    "df_users = pd.read_json('data/users.json')\n",
    "df_users"
   ]
  },
  {
   "cell_type": "markdown",
   "metadata": {},
   "source": [
    "## Loading from a database.\n",
    "We can load data from a SQL database connection with pandas too, databases come in many forms and some are more complex to connect to than others. Here we connect to one of the simplest, a file-based database format called sqlite."
   ]
  },
  {
   "cell_type": "code",
   "execution_count": null,
   "metadata": {},
   "outputs": [],
   "source": [
    "import sqlite3\n",
    "conn = sqlite3.connect('data/example.db')\n",
    "\n",
    "# We pass a SQL query along with an object representing our database connection.\n",
    "df_items = pd.read_sql(\"\"\"SELECT * FROM items\"\"\", conn)\n",
    "\n",
    "df_items"
   ]
  },
  {
   "cell_type": "code",
   "execution_count": null,
   "metadata": {},
   "outputs": [],
   "source": []
  }
 ],
 "metadata": {
  "kernelspec": {
   "display_name": "Python 3",
   "language": "python",
   "name": "python3"
  },
  "language_info": {
   "codemirror_mode": {
    "name": "ipython",
    "version": 3
   },
   "file_extension": ".py",
   "mimetype": "text/x-python",
   "name": "python",
   "nbconvert_exporter": "python",
   "pygments_lexer": "ipython3",
   "version": "3.7.4"
  }
 },
 "nbformat": 4,
 "nbformat_minor": 4
}
