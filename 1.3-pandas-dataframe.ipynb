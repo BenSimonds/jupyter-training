{
 "cells": [
  {
   "cell_type": "markdown",
   "metadata": {},
   "source": [
    "# 1.3 🐼 Pandas Core Concepts - `pandas.DataFrame`\n",
    "\n",
    "\n",
    "Ok now we're getting to the good stuff. A dataframe is a collection of Pandas Series objects, and shares a lot of the properties of what we'd think of as a table in a database or a spreadsheet. A dataframe has an index just like a series, which is shared by each column (series) in the dataframe."
   ]
  },
  {
   "cell_type": "code",
   "execution_count": 25,
   "metadata": {},
   "outputs": [],
   "source": [
    "import pandas as pd\n",
    "import numpy as np"
   ]
  },
  {
   "cell_type": "code",
   "execution_count": 26,
   "metadata": {},
   "outputs": [
    {
     "data": {
      "text/html": [
       "<div>\n",
       "<style scoped>\n",
       "    .dataframe tbody tr th:only-of-type {\n",
       "        vertical-align: middle;\n",
       "    }\n",
       "\n",
       "    .dataframe tbody tr th {\n",
       "        vertical-align: top;\n",
       "    }\n",
       "\n",
       "    .dataframe thead th {\n",
       "        text-align: right;\n",
       "    }\n",
       "</style>\n",
       "<table border=\"1\" class=\"dataframe\">\n",
       "  <thead>\n",
       "    <tr style=\"text-align: right;\">\n",
       "      <th></th>\n",
       "      <th>age</th>\n",
       "      <th>height</th>\n",
       "      <th>eyecolor</th>\n",
       "    </tr>\n",
       "  </thead>\n",
       "  <tbody>\n",
       "    <tr>\n",
       "      <th>Alice</th>\n",
       "      <td>28</td>\n",
       "      <td>150</td>\n",
       "      <td>brown</td>\n",
       "    </tr>\n",
       "    <tr>\n",
       "      <th>Bob</th>\n",
       "      <td>56</td>\n",
       "      <td>187</td>\n",
       "      <td>brown</td>\n",
       "    </tr>\n",
       "    <tr>\n",
       "      <th>Jim</th>\n",
       "      <td>19</td>\n",
       "      <td>145</td>\n",
       "      <td>blue</td>\n",
       "    </tr>\n",
       "    <tr>\n",
       "      <th>Jane</th>\n",
       "      <td>65</td>\n",
       "      <td>197</td>\n",
       "      <td>green</td>\n",
       "    </tr>\n",
       "  </tbody>\n",
       "</table>\n",
       "</div>"
      ],
      "text/plain": [
       "       age  height eyecolor\n",
       "Alice   28     150    brown\n",
       "Bob     56     187    brown\n",
       "Jim     19     145     blue\n",
       "Jane    65     197    green"
      ]
     },
     "execution_count": 26,
     "metadata": {},
     "output_type": "execute_result"
    }
   ],
   "source": [
    "# Construct a dataframe from a number of lists.\n",
    "\n",
    "# this column will be our index\n",
    "names = ['Alice','Bob','Jim','Jane']\n",
    "\n",
    "# the rest will be our columns\n",
    "data = {\n",
    "    \"age\": [28,56,19,65],\n",
    "    \"height\": [150,187,145,197],\n",
    "    \"eyecolor\": [\"brown\",\"brown\",\"blue\",\"green\"],\n",
    "}\n",
    "\n",
    "# We will call our dataframe df.\n",
    "df = pd.DataFrame(\n",
    "    index=names,\n",
    "    data=data\n",
    ")\n",
    "\n",
    "df"
   ]
  },
  {
   "cell_type": "markdown",
   "metadata": {},
   "source": [
    "In the above output you'll see that Jupyer formats dataframes into a nice tabular format, with the index and the column headers in **bold**. Unlike a 2D numpy array in which all the values must be of the same type, a Pandas DataFrame is made up of Series objects which can each have different data types."
   ]
  },
  {
   "cell_type": "code",
   "execution_count": 27,
   "metadata": {},
   "outputs": [
    {
     "data": {
      "text/plain": [
       "age          int64\n",
       "height       int64\n",
       "eyecolor    object\n",
       "dtype: object"
      ]
     },
     "execution_count": 27,
     "metadata": {},
     "output_type": "execute_result"
    }
   ],
   "source": [
    "df.dtypes"
   ]
  },
  {
   "cell_type": "markdown",
   "metadata": {},
   "source": [
    "Note the `object` datatype for eyecolor. This is the format that Pandas usually represents strings and other more complex objects with. Whilst Pandas 1.0 [introduced an experimental String datatype](https://pandas.pydata.org/pandas-docs/stable/reference/api/pandas.StringDtype.html#pandas.StringDtype) it's much more common to treat strings as objects in pandas."
   ]
  },
  {
   "cell_type": "markdown",
   "metadata": {},
   "source": [
    "## Accessing Dataframe Values\n",
    "\n",
    "Dataframes support a number of ways of accesing the data within them.\n",
    "\n",
    "- You can access columns like they were dict values with `df['column_name']`\n",
    "- You can select multiple columns by supplying an array of column names e.g. `df[['age','eyecolor']]` - note the double brackets.\n",
    "- You can also access columns like they were attribtutes with `df.column_name`\n",
    "- You can access indices with the `.loc` accessor\n",
    "- You can slice the dataframe with the `.loc` accessor to select both columns and rows at the same time.\n",
    "- You can use the .iloc accessor to select columns and rows by their numeric index rather than their labels."
   ]
  },
  {
   "cell_type": "code",
   "execution_count": 28,
   "metadata": {},
   "outputs": [
    {
     "data": {
      "text/plain": [
       "Alice    28\n",
       "Bob      56\n",
       "Jim      19\n",
       "Jane     65\n",
       "Name: age, dtype: int64"
      ]
     },
     "execution_count": 28,
     "metadata": {},
     "output_type": "execute_result"
    }
   ],
   "source": [
    "df['age']"
   ]
  },
  {
   "cell_type": "code",
   "execution_count": 29,
   "metadata": {},
   "outputs": [
    {
     "data": {
      "text/plain": [
       "Alice    28\n",
       "Bob      56\n",
       "Jim      19\n",
       "Jane     65\n",
       "Name: age, dtype: int64"
      ]
     },
     "execution_count": 29,
     "metadata": {},
     "output_type": "execute_result"
    }
   ],
   "source": [
    "df.age"
   ]
  },
  {
   "cell_type": "code",
   "execution_count": 30,
   "metadata": {},
   "outputs": [
    {
     "data": {
      "text/plain": [
       "age           19\n",
       "height       145\n",
       "eyecolor    blue\n",
       "Name: Jim, dtype: object"
      ]
     },
     "execution_count": 30,
     "metadata": {},
     "output_type": "execute_result"
    }
   ],
   "source": [
    "df.loc['Jim']"
   ]
  },
  {
   "cell_type": "code",
   "execution_count": 31,
   "metadata": {},
   "outputs": [
    {
     "data": {
      "text/plain": [
       "age            28\n",
       "eyecolor    brown\n",
       "Name: Alice, dtype: object"
      ]
     },
     "execution_count": 31,
     "metadata": {},
     "output_type": "execute_result"
    }
   ],
   "source": [
    "# Then first argument to the .loc accessor specifies the index (or indices), the second the column(s).\n",
    "df.loc['Alice', ['age','eyecolor']]"
   ]
  },
  {
   "cell_type": "markdown",
   "metadata": {},
   "source": [
    "### Accessing data and the Zen of Python\n",
    "\n",
    "This abundance of ways to access data presents a conflict with the [zen of python](https://www.python.org/dev/peps/pep-0020/):\n",
    "\n",
    "> There should be one-- and preferably only one --obvious way to do it.\n",
    "\n",
    "Thankfully it also has this wisdom to offer:\n",
    "\n",
    "> Explicit is better than implicit.\n",
    "\n",
    "Whilst there are many ways of accessing data in a dataframe, the two that make your intentions most explicit are usally the `df['column_name']` accessor for returning a single column (since the `.attribute` method could also refer to core dataframe attributes like the `.index` or `.shape` attributes) or the `.loc` accessor for accessing rows or anything more complex."
   ]
  },
  {
   "cell_type": "code",
   "execution_count": 32,
   "metadata": {},
   "outputs": [
    {
     "name": "stdout",
     "output_type": "stream",
     "text": [
      "df.shape is:\n",
      "(3, 2)\n",
      "\n",
      "Not what you were expecting? The .shape property of a dataframe is a tuple of the number of rows and columns it contains.\n",
      "\n",
      "df['shape'] is:\n",
      "0      circle\n",
      "1      square\n",
      "2    triangle\n",
      "Name: shape, dtype: object\n"
     ]
    }
   ],
   "source": [
    "df_example = pd.DataFrame(\n",
    "    data={\n",
    "        \"shape\": [\"circle\",\"square\",\"triangle\"],\n",
    "        \"sides\": [np.nan, 4, 3]\n",
    "    }\n",
    ")\n",
    "print(\"df.shape is:\")\n",
    "print(df_example.shape)\n",
    "print(\"\\nNot what you were expecting? The .shape property of a dataframe is a tuple of the number of rows and columns it contains.\\n\")\n",
    "print(\"df['shape'] is:\")\n",
    "print(df_example['shape'])"
   ]
  },
  {
   "cell_type": "markdown",
   "metadata": {},
   "source": [
    "### `df.apply()`\n",
    "\n",
    "We can use the `.apply` method on individual columns in the dataframe just by selecting them. We can also do an apply on the whole dataframe row wise or column wise by specifying an axis.\n"
   ]
  },
  {
   "cell_type": "code",
   "execution_count": 33,
   "metadata": {},
   "outputs": [
    {
     "data": {
      "text/plain": [
       "Alice    The are 150cm tall, have brown eyes and are 28...\n",
       "Bob      The are 187cm tall, have brown eyes and are 56...\n",
       "Jim      The are 145cm tall, have blue eyes and are 19 ...\n",
       "Jane     The are 197cm tall, have green eyes and are 65...\n",
       "dtype: object"
      ]
     },
     "execution_count": 33,
     "metadata": {},
     "output_type": "execute_result"
    }
   ],
   "source": [
    "def description(row):\n",
    "    return f\"The are {row['height']}cm tall, have {row['eyecolor']} eyes and are {row['age']} years old\"\n",
    "\n",
    "# Apply on the columns axis to have the function applied to each row.\n",
    "df.apply(description, axis='columns')"
   ]
  },
  {
   "cell_type": "markdown",
   "metadata": {},
   "source": [
    "## Other Useful Dataframe Methods & Attributes\n",
    "\n",
    "Dataframes have a number of useful methods and attributes that are worth knowing. Some we've covered already.\n"
   ]
  },
  {
   "cell_type": "code",
   "execution_count": 36,
   "metadata": {},
   "outputs": [
    {
     "name": "stdout",
     "output_type": "stream",
     "text": [
      "columns Index(['age', 'height', 'eyecolor'], dtype='object')\n"
     ]
    }
   ],
   "source": [
    "# Columns is an index of the column names.\n",
    "print('columns', df.columns)"
   ]
  },
  {
   "cell_type": "code",
   "execution_count": 38,
   "metadata": {},
   "outputs": [
    {
     "name": "stdout",
     "output_type": "stream",
     "text": [
      "df has:\n",
      "4 rows\n",
      "3 columns\n"
     ]
    }
   ],
   "source": [
    "# Shape is a tuple of the number of rows and columns in the dataframe\n",
    "print(\"df has:\")\n",
    "print(df.shape[0], 'rows')\n",
    "print(df.shape[1], 'columns')"
   ]
  },
  {
   "cell_type": "code",
   "execution_count": 40,
   "metadata": {},
   "outputs": [
    {
     "name": "stdout",
     "output_type": "stream",
     "text": [
      "<class 'pandas.core.frame.DataFrame'>\n",
      "Index: 4 entries, Alice to Jane\n",
      "Data columns (total 3 columns):\n",
      " #   Column    Non-Null Count  Dtype \n",
      "---  ------    --------------  ----- \n",
      " 0   age       4 non-null      int64 \n",
      " 1   height    4 non-null      int64 \n",
      " 2   eyecolor  4 non-null      object\n",
      "dtypes: int64(2), object(1)\n",
      "memory usage: 288.0+ bytes\n"
     ]
    }
   ],
   "source": [
    "# info gives you information about the columns and the data in them\n",
    "df.info()"
   ]
  },
  {
   "cell_type": "code",
   "execution_count": 43,
   "metadata": {},
   "outputs": [
    {
     "data": {
      "text/html": [
       "<div>\n",
       "<style scoped>\n",
       "    .dataframe tbody tr th:only-of-type {\n",
       "        vertical-align: middle;\n",
       "    }\n",
       "\n",
       "    .dataframe tbody tr th {\n",
       "        vertical-align: top;\n",
       "    }\n",
       "\n",
       "    .dataframe thead th {\n",
       "        text-align: right;\n",
       "    }\n",
       "</style>\n",
       "<table border=\"1\" class=\"dataframe\">\n",
       "  <thead>\n",
       "    <tr style=\"text-align: right;\">\n",
       "      <th></th>\n",
       "      <th>age</th>\n",
       "      <th>height</th>\n",
       "    </tr>\n",
       "  </thead>\n",
       "  <tbody>\n",
       "    <tr>\n",
       "      <th>count</th>\n",
       "      <td>4.000000</td>\n",
       "      <td>4.00000</td>\n",
       "    </tr>\n",
       "    <tr>\n",
       "      <th>mean</th>\n",
       "      <td>42.000000</td>\n",
       "      <td>169.75000</td>\n",
       "    </tr>\n",
       "    <tr>\n",
       "      <th>std</th>\n",
       "      <td>21.984843</td>\n",
       "      <td>26.09438</td>\n",
       "    </tr>\n",
       "    <tr>\n",
       "      <th>min</th>\n",
       "      <td>19.000000</td>\n",
       "      <td>145.00000</td>\n",
       "    </tr>\n",
       "    <tr>\n",
       "      <th>25%</th>\n",
       "      <td>25.750000</td>\n",
       "      <td>148.75000</td>\n",
       "    </tr>\n",
       "    <tr>\n",
       "      <th>50%</th>\n",
       "      <td>42.000000</td>\n",
       "      <td>168.50000</td>\n",
       "    </tr>\n",
       "    <tr>\n",
       "      <th>75%</th>\n",
       "      <td>58.250000</td>\n",
       "      <td>189.50000</td>\n",
       "    </tr>\n",
       "    <tr>\n",
       "      <th>max</th>\n",
       "      <td>65.000000</td>\n",
       "      <td>197.00000</td>\n",
       "    </tr>\n",
       "  </tbody>\n",
       "</table>\n",
       "</div>"
      ],
      "text/plain": [
       "             age     height\n",
       "count   4.000000    4.00000\n",
       "mean   42.000000  169.75000\n",
       "std    21.984843   26.09438\n",
       "min    19.000000  145.00000\n",
       "25%    25.750000  148.75000\n",
       "50%    42.000000  168.50000\n",
       "75%    58.250000  189.50000\n",
       "max    65.000000  197.00000"
      ]
     },
     "execution_count": 43,
     "metadata": {},
     "output_type": "execute_result"
    }
   ],
   "source": [
    "# describe generates descriptive statistics about the numeric data in the dataframe including the number of values, the mean, and various percentiles\n",
    "df.describe()"
   ]
  }
 ],
 "metadata": {
  "kernelspec": {
   "display_name": "Python 3",
   "language": "python",
   "name": "python3"
  },
  "language_info": {
   "codemirror_mode": {
    "name": "ipython",
    "version": 3
   },
   "file_extension": ".py",
   "mimetype": "text/x-python",
   "name": "python",
   "nbconvert_exporter": "python",
   "pygments_lexer": "ipython3",
   "version": "3.7.4"
  }
 },
 "nbformat": 4,
 "nbformat_minor": 4
}
