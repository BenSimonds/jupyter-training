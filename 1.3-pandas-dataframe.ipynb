{
 "cells": [
  {
   "cell_type": "markdown",
   "metadata": {},
   "source": [
    "# 1.3 🐼 Pandas Core Concepts - `pandas.DataFrame`\n",
    "\n",
    "\n",
    "Ok now we're getting to the good stuff. A dataframe is a collection of Pandas Series objects, and shares a lot of the properties of what we'd think of as a table in a database or a spreadsheet. A dataframe has an index just like a series, which is shared by each column (series) in the dataframe."
   ]
  },
  {
   "cell_type": "code",
   "execution_count": null,
   "metadata": {},
   "outputs": [],
   "source": [
    "import pandas as pd\n",
    "import numpy as np"
   ]
  },
  {
   "cell_type": "code",
   "execution_count": null,
   "metadata": {},
   "outputs": [],
   "source": [
    "# Construct a dataframe from a number of lists.\n",
    "\n",
    "# this column will be our index\n",
    "names = ['Alice','Bob','Jim','Jane']\n",
    "\n",
    "# the rest will be our columns\n",
    "data = {\n",
    "    \"age\": [28,56,19,65],\n",
    "    \"height\": [150,187,145,197],\n",
    "    \"eyecolor\": [\"brown\",\"brown\",\"blue\",\"green\"],\n",
    "}\n",
    "\n",
    "# We will call our dataframe df.\n",
    "df = pd.DataFrame(\n",
    "    index=names,\n",
    "    data=data\n",
    ")\n",
    "\n",
    "df.columns.tolist()"
   ]
  },
  {
   "cell_type": "markdown",
   "metadata": {},
   "source": [
    "In the above output you'll see that Jupyer formats dataframes into a nice tabular format, with the index and the column headers in **bold**. Unlike a 2D numpy array in which all the values must be of the same type, a Pandas DataFrame is made up of Series objects which can each have different data types."
   ]
  },
  {
   "cell_type": "code",
   "execution_count": null,
   "metadata": {},
   "outputs": [],
   "source": [
    "df.dtypes"
   ]
  },
  {
   "cell_type": "markdown",
   "metadata": {},
   "source": [
    "Note the `object` datatype for eyecolor. This is the format that Pandas usually represents strings and other more complex objects with. Whilst Pandas 1.0 [introduced an experimental String datatype](https://pandas.pydata.org/pandas-docs/stable/reference/api/pandas.StringDtype.html#pandas.StringDtype) it's much more common to treat strings as objects in pandas."
   ]
  },
  {
   "cell_type": "markdown",
   "metadata": {},
   "source": [
    "## Accessing Dataframe Values\n",
    "\n",
    "Dataframes support a number of ways of accesing the data within them.\n",
    "\n",
    "- You can access columns like they were dict values with `df['column_name']`\n",
    "- You can select multiple columns by supplying an array of column names e.g. `df[['age','eyecolor']]` - note the double brackets.\n",
    "- You can also access columns like they were attribtutes with `df.column_name`\n",
    "- You can access indices with the `.loc` accessor\n",
    "- You can slice the dataframe with the `.loc` accessor to select both columns and rows at the same time.\n",
    "- You can pass an expression to the `.loc` accessor that evaluates to true or false for each row to select those rows that the function returns true for.\n",
    "- You can use the .iloc accessor to select columns and rows by their numeric index rather than their labels."
   ]
  },
  {
   "cell_type": "markdown",
   "metadata": {},
   "source": [
    "You can access columns like they were dict values with `df['column_name']`"
   ]
  },
  {
   "cell_type": "code",
   "execution_count": null,
   "metadata": {},
   "outputs": [],
   "source": [
    "df['age']"
   ]
  },
  {
   "cell_type": "code",
   "execution_count": null,
   "metadata": {},
   "outputs": [],
   "source": [
    "df.age"
   ]
  },
  {
   "cell_type": "code",
   "execution_count": null,
   "metadata": {},
   "outputs": [],
   "source": [
    "df.loc['Jim']"
   ]
  },
  {
   "cell_type": "code",
   "execution_count": null,
   "metadata": {},
   "outputs": [],
   "source": [
    "# Then first argument to the .loc accessor specifies the index (or indices), the second the column(s).\n",
    "df.loc['Alice', ['age','eyecolor']]"
   ]
  },
  {
   "cell_type": "code",
   "execution_count": null,
   "metadata": {},
   "outputs": [],
   "source": [
    "# We can use .loc on just the columns by using : to skip the first argument\n",
    "df.loc[:, ['age','height']]"
   ]
  },
  {
   "cell_type": "code",
   "execution_count": null,
   "metadata": {},
   "outputs": [],
   "source": [
    "# Use an expression to select anone over 30.\n",
    "df.loc[df['age'] > 30]"
   ]
  },
  {
   "cell_type": "code",
   "execution_count": null,
   "metadata": {},
   "outputs": [],
   "source": [
    "# You can combine expressions with & (and) and | (or) - be sure to put each expression in parentheses.\n",
    "# Select anyone over 150cm tall with green eyes\n",
    "df.loc[\n",
    "    (df['eyecolor'] == 'green') & (df['height'] > 150)\n",
    "]"
   ]
  },
  {
   "cell_type": "markdown",
   "metadata": {},
   "source": [
    "### Accessing data and the Zen of Python\n",
    "\n",
    "This abundance of ways to access data presents a conflict with the [zen of python](https://www.python.org/dev/peps/pep-0020/):\n",
    "\n",
    "> There should be one-- and preferably only one --obvious way to do it.\n",
    "\n",
    "Thankfully it also has this wisdom to offer:\n",
    "\n",
    "> Explicit is better than implicit.\n",
    "\n",
    "Whilst there are many ways of accessing data in a dataframe, the two that make your intentions most explicit are usally the `df['column_name']` accessor for returning a single column (since the `.attribute` method could also refer to core dataframe attributes like the `.index` or `.shape` attributes) or the `.loc` accessor for accessing rows or anything more complex."
   ]
  },
  {
   "cell_type": "code",
   "execution_count": null,
   "metadata": {},
   "outputs": [],
   "source": [
    "df_example = pd.DataFrame(\n",
    "    data={\n",
    "        \"shape\": [\"circle\",\"square\",\"triangle\"],\n",
    "        \"sides\": [np.nan, 4, 3]\n",
    "    }\n",
    ")\n",
    "print(\"df.shape is:\")\n",
    "print(df_example.shape)\n",
    "print(\"\\nNot what you were expecting? The .shape property of a dataframe is a tuple of the number of rows and columns it contains.\\n\")\n",
    "print(\"df['shape'] is:\")\n",
    "print(df_example['shape'])"
   ]
  },
  {
   "cell_type": "markdown",
   "metadata": {},
   "source": [
    "### `df.apply()`\n",
    "\n",
    "We can use the `.apply` method on individual columns in the dataframe just by selecting them. We can also do an apply on the whole dataframe row wise or column wise by specifying an axis.\n"
   ]
  },
  {
   "cell_type": "code",
   "execution_count": null,
   "metadata": {},
   "outputs": [],
   "source": [
    "def description(row):\n",
    "    return f\"The are {row['height']}cm tall, have {row['eyecolor']} eyes and are {row['age']} years old\"\n",
    "\n",
    "# Apply on the columns axis to have the function applied to each row.\n",
    "df.apply(description, axis='columns')"
   ]
  },
  {
   "cell_type": "markdown",
   "metadata": {},
   "source": [
    "## Other Useful Dataframe Methods & Attributes\n",
    "\n",
    "Dataframes have a number of useful methods and attributes that are worth knowing. Some we've covered already.\n"
   ]
  },
  {
   "cell_type": "code",
   "execution_count": null,
   "metadata": {},
   "outputs": [],
   "source": [
    "# Columns is an index of the column names.\n",
    "print('columns', df.columns)"
   ]
  },
  {
   "cell_type": "code",
   "execution_count": null,
   "metadata": {},
   "outputs": [],
   "source": [
    "# Shape is a tuple of the number of rows and columns in the dataframe\n",
    "print(\"df has:\")\n",
    "print(df.shape[0], 'rows')\n",
    "print(df.shape[1], 'columns')"
   ]
  },
  {
   "cell_type": "code",
   "execution_count": null,
   "metadata": {},
   "outputs": [],
   "source": [
    "# info gives you information about the columns and the data in them\n",
    "df.info()"
   ]
  },
  {
   "cell_type": "code",
   "execution_count": null,
   "metadata": {},
   "outputs": [],
   "source": [
    "# describe generates descriptive statistics about the numeric data in the dataframe including the number of values, the mean, and various percentiles\n",
    "df.describe()"
   ]
  },
  {
   "cell_type": "markdown",
   "metadata": {},
   "source": [
    "## Excercises\n",
    "\n",
    "From the following dataframe featuring data from the 2017 general election answer the following.\n",
    "\n",
    "- How many seats did the DUP gain? (select just this data point).\n",
    "- How many votes were cast in total?\n",
    "- What percentage of the vote did parties other than Labour and the Conservatives get in total.\n",
    "- What party had the largest change in the overall vote share?\n",
    "- Use an apply function to create a series with the value `more seats` if they won seats overall, `no change` if they mainained the same number of seats, or `fewer seats` if they lost seats overall. Count the number of parties in each category (ignore \"All other parties\")\n"
   ]
  },
  {
   "cell_type": "code",
   "execution_count": null,
   "metadata": {},
   "outputs": [],
   "source": [
    "df = pd.read_csv('data/2017-election-results.csv', index_col=0)\n",
    "# Show the first few rows, not the whole dataframe!\n",
    "df.head()"
   ]
  },
  {
   "cell_type": "code",
   "execution_count": null,
   "metadata": {},
   "outputs": [],
   "source": [
    "# How many seats did the DUP gain?\n"
   ]
  },
  {
   "cell_type": "code",
   "execution_count": null,
   "metadata": {},
   "outputs": [],
   "source": [
    "# How many votes were cast in total?\n"
   ]
  },
  {
   "cell_type": "code",
   "execution_count": null,
   "metadata": {},
   "outputs": [],
   "source": [
    "# What percentage of the vote did parties other than Labour and the Conservatives win?\n"
   ]
  },
  {
   "cell_type": "code",
   "execution_count": null,
   "metadata": {},
   "outputs": [],
   "source": [
    "# What percentage of seats did parties other than Labour and the Conservatives win?\n"
   ]
  },
  {
   "cell_type": "code",
   "execution_count": null,
   "metadata": {},
   "outputs": [],
   "source": [
    "# What party had the largest change in vote share?"
   ]
  },
  {
   "cell_type": "code",
   "execution_count": null,
   "metadata": {},
   "outputs": [],
   "source": [
    "# More seats or fewer seats\n",
    "\n",
    "def more_or_fewer(value):\n",
    "    # Add your function code here..\n",
    "\n",
    "# Apply to the Net column that shows the net number of seats gained or lost\n",
    "mf = df['Net'].apply(more_or_fewer) \n",
    "display(mf)"
   ]
  },
  {
   "cell_type": "code",
   "execution_count": null,
   "metadata": {},
   "outputs": [],
   "source": [
    "# The same thing as a one liner.\n",
    "# Is it quicker to write? maybe. \n",
    "# Is it easier to read? maybe not...\n",
    "\n"
   ]
  },
  {
   "cell_type": "code",
   "execution_count": null,
   "metadata": {},
   "outputs": [],
   "source": []
  }
 ],
 "metadata": {
  "kernelspec": {
   "display_name": "Python 3",
   "language": "python",
   "name": "python3"
  },
  "language_info": {
   "codemirror_mode": {
    "name": "ipython",
    "version": 3
   },
   "file_extension": ".py",
   "mimetype": "text/x-python",
   "name": "python",
   "nbconvert_exporter": "python",
   "pygments_lexer": "ipython3",
   "version": "3.7.4"
  }
 },
 "nbformat": 4,
 "nbformat_minor": 4
}
